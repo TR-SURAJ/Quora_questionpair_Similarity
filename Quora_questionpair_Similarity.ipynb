{
 "cells": [
  {
   "cell_type": "code",
   "execution_count": null,
   "metadata": {},
   "outputs": [],
   "source": [
    "import numpy as np\n",
    "import pandas as pd\n",
    "import seaborn as sns\n",
    "import matplotlib.pyplot as plt\n",
    "from subprocess import check_output\n",
    "%matplotlib inline\n",
    "import plotly.offline as py\n",
    "import plotly.graph_objs as go\n",
    "import plotly.tools as tls\n",
    "import os\n",
    "import gc\n",
    "import re\n",
    "from nltk import word_tokenize\n",
    "from nltk.corpus import stopwords\n",
    "import distance\n",
    "from nltk.stem import PorterStemmer\n",
    "from bs4 import BeautifulSoup\n",
    "from sklearn.metrics import accuracy_score\n",
    "from sklearn.metrics import roc_auc_score\n",
    "from sklearn.feature_extraction.text import TfidfVectorizer, CountVectorizer\n",
    "from sklearn import linear_model\n",
    "from sklearn.model_selection import train_test_split\n",
    "from scipy.spatial.distance import cosine, cityblock, jaccard, canberra, euclidean, minkowski, braycurtis\n",
    "import scipy\n",
    "import xgboost as xgb\n",
    "from bs4 import BeautifulSoup\n",
    "from fuzzywuzzy import fuzz\n",
    "from sklearn.manifold import TSNE\n",
    "from wordcloud import WordCloud, STOPWORDS\n",
    "from sklearn.model_selection import cross_val_score\n",
    "from sklearn.linear_model import SGDClassifier\n",
    "#from mlxtend.classifier import StackingClassifier\n",
    "from collections import Counter\n",
    "from scipy.sparse import hstack\n",
    "from sklearn.multiclass import OneVsRestClassifier\n",
    "from sklearn.svm import SVC\n",
    "from sklearn.model_selection import StratifiedKFold \n",
    "from collections import Counter, defaultdict\n",
    "from sklearn.calibration import CalibratedClassifierCV\n",
    "from sklearn.naive_bayes import MultinomialNB\n",
    "from sklearn.naive_bayes import GaussianNB\n",
    "from sklearn.model_selection import train_test_split\n",
    "from sklearn.model_selection import GridSearchCV"
   ]
  },
  {
   "cell_type": "code",
   "execution_count": 33,
   "metadata": {},
   "outputs": [],
   "source": [
    "df = pd.read_csv('train.csv')"
   ]
  },
  {
   "cell_type": "code",
   "execution_count": 34,
   "metadata": {},
   "outputs": [
    {
     "data": {
      "text/html": [
       "<div>\n",
       "<style scoped>\n",
       "    .dataframe tbody tr th:only-of-type {\n",
       "        vertical-align: middle;\n",
       "    }\n",
       "\n",
       "    .dataframe tbody tr th {\n",
       "        vertical-align: top;\n",
       "    }\n",
       "\n",
       "    .dataframe thead th {\n",
       "        text-align: right;\n",
       "    }\n",
       "</style>\n",
       "<table border=\"1\" class=\"dataframe\">\n",
       "  <thead>\n",
       "    <tr style=\"text-align: right;\">\n",
       "      <th></th>\n",
       "      <th>id</th>\n",
       "      <th>qid1</th>\n",
       "      <th>qid2</th>\n",
       "      <th>question1</th>\n",
       "      <th>question2</th>\n",
       "      <th>is_duplicate</th>\n",
       "    </tr>\n",
       "  </thead>\n",
       "  <tbody>\n",
       "    <tr>\n",
       "      <th>0</th>\n",
       "      <td>0</td>\n",
       "      <td>1</td>\n",
       "      <td>2</td>\n",
       "      <td>What is the step by step guide to invest in sh...</td>\n",
       "      <td>What is the step by step guide to invest in sh...</td>\n",
       "      <td>0</td>\n",
       "    </tr>\n",
       "    <tr>\n",
       "      <th>1</th>\n",
       "      <td>1</td>\n",
       "      <td>3</td>\n",
       "      <td>4</td>\n",
       "      <td>What is the story of Kohinoor (Koh-i-Noor) Dia...</td>\n",
       "      <td>What would happen if the Indian government sto...</td>\n",
       "      <td>0</td>\n",
       "    </tr>\n",
       "    <tr>\n",
       "      <th>2</th>\n",
       "      <td>2</td>\n",
       "      <td>5</td>\n",
       "      <td>6</td>\n",
       "      <td>How can I increase the speed of my internet co...</td>\n",
       "      <td>How can Internet speed be increased by hacking...</td>\n",
       "      <td>0</td>\n",
       "    </tr>\n",
       "    <tr>\n",
       "      <th>3</th>\n",
       "      <td>3</td>\n",
       "      <td>7</td>\n",
       "      <td>8</td>\n",
       "      <td>Why am I mentally very lonely? How can I solve...</td>\n",
       "      <td>Find the remainder when [math]23^{24}[/math] i...</td>\n",
       "      <td>0</td>\n",
       "    </tr>\n",
       "    <tr>\n",
       "      <th>4</th>\n",
       "      <td>4</td>\n",
       "      <td>9</td>\n",
       "      <td>10</td>\n",
       "      <td>Which one dissolve in water quikly sugar, salt...</td>\n",
       "      <td>Which fish would survive in salt water?</td>\n",
       "      <td>0</td>\n",
       "    </tr>\n",
       "  </tbody>\n",
       "</table>\n",
       "</div>"
      ],
      "text/plain": [
       "   id  qid1  qid2                                          question1  \\\n",
       "0   0     1     2  What is the step by step guide to invest in sh...   \n",
       "1   1     3     4  What is the story of Kohinoor (Koh-i-Noor) Dia...   \n",
       "2   2     5     6  How can I increase the speed of my internet co...   \n",
       "3   3     7     8  Why am I mentally very lonely? How can I solve...   \n",
       "4   4     9    10  Which one dissolve in water quikly sugar, salt...   \n",
       "\n",
       "                                           question2  is_duplicate  \n",
       "0  What is the step by step guide to invest in sh...             0  \n",
       "1  What would happen if the Indian government sto...             0  \n",
       "2  How can Internet speed be increased by hacking...             0  \n",
       "3  Find the remainder when [math]23^{24}[/math] i...             0  \n",
       "4            Which fish would survive in salt water?             0  "
      ]
     },
     "execution_count": 34,
     "metadata": {},
     "output_type": "execute_result"
    }
   ],
   "source": [
    "df.head()"
   ]
  },
  {
   "cell_type": "code",
   "execution_count": 35,
   "metadata": {},
   "outputs": [
    {
     "data": {
      "text/plain": [
       "(404290, 6)"
      ]
     },
     "execution_count": 35,
     "metadata": {},
     "output_type": "execute_result"
    }
   ],
   "source": [
    "df.shape"
   ]
  },
  {
   "cell_type": "code",
   "execution_count": 36,
   "metadata": {},
   "outputs": [],
   "source": [
    "df = df.dropna(how=\"any\").reset_index(drop=True)"
   ]
  },
  {
   "cell_type": "code",
   "execution_count": 37,
   "metadata": {},
   "outputs": [
    {
     "data": {
      "text/plain": [
       "(404287, 6)"
      ]
     },
     "execution_count": 37,
     "metadata": {},
     "output_type": "execute_result"
    }
   ],
   "source": [
    "df.shape"
   ]
  },
  {
   "cell_type": "code",
   "execution_count": 38,
   "metadata": {},
   "outputs": [
    {
     "data": {
      "text/plain": [
       "<AxesSubplot:xlabel='is_duplicate'>"
      ]
     },
     "execution_count": 38,
     "metadata": {},
     "output_type": "execute_result"
    },
    {
     "data": {
      "image/png": "[encoded data removed]",
      "text/plain": [
       "<Figure size 432x288 with 1 Axes>"
      ]
     },
     "metadata": {
      "needs_background": "light"
     },
     "output_type": "display_data"
    }
   ],
   "source": [
    "df.groupby('is_duplicate')['id'].count().plot.bar()"
   ]
  },
  {
   "cell_type": "code",
   "execution_count": 39,
   "metadata": {},
   "outputs": [
    {
     "data": {
      "text/plain": [
       "0.3692005926482919"
      ]
     },
     "execution_count": 39,
     "metadata": {},
     "output_type": "execute_result"
    }
   ],
   "source": [
    "df['is_duplicate'].mean()"
   ]
  },
  {
   "cell_type": "code",
   "execution_count": 40,
   "metadata": {},
   "outputs": [
    {
     "name": "stdout",
     "output_type": "stream",
     "text": [
      "~> Question pairs are not Similar (is_duplicate = 0):\n",
      "   63.08%\n",
      "\n",
      "~> Question pairs are Similar (is_duplicate = 1):\n",
      "   36.92%\n"
     ]
    }
   ],
   "source": [
    "print('~> Question pairs are not Similar (is_duplicate = 0):\\n   {}%'.format(100 - round(df['is_duplicate'].mean()*100, 2)))\n",
    "print('\\n~> Question pairs are Similar (is_duplicate = 1):\\n   {}%'.format(round(df['is_duplicate'].mean()*100, 2)))"
   ]
  },
  {
   "cell_type": "code",
   "execution_count": 19,
   "metadata": {},
   "outputs": [
    {
     "name": "stdout",
     "output_type": "stream",
     "text": [
      "Total number of  Unique Questions are: 537929\n",
      "\n",
      "Number of unique questions that appear more than one time: 111778 (20.779322178205675%)\n",
      "\n",
      "Max number of times a single question is repeated: 157\n",
      "\n"
     ]
    }
   ],
   "source": [
    "#Number of Unique Questions\n",
    "\n",
    "qids = pd.Series(df['qid1'].tolist() + df['qid2'].tolist())\n",
    "unique_qids = len(np.unique(qids))\n",
    "qs_morethan_onetime = np.sum(qids.value_counts() > 1)\n",
    "\n",
    "print ('Total number of  Unique Questions are: {}\\n'.format(unique_qids))\n",
    "\n",
    "print ('Number of unique questions that appear more than one time: {} ({}%)\\n'.format(qs_morethan_onetime,qs_morethan_onetime/unique_qids*100))\n",
    "\n",
    "print ('Max number of times a single question is repeated: {}\\n'.format(max(qids.value_counts())))\n"
   ]
  },
  {
   "cell_type": "code",
   "execution_count": 20,
   "metadata": {},
   "outputs": [
    {
     "name": "stderr",
     "output_type": "stream",
     "text": [
      "C:\\Users\\Suraj\\anaconda3\\envs\\tensorflowenv\\lib\\site-packages\\seaborn\\_decorators.py:43: FutureWarning:\n",
      "\n",
      "Pass the following variables as keyword args: x, y. From version 0.12, the only valid positional argument will be `data`, and passing other arguments without an explicit keyword will result in an error or misinterpretation.\n",
      "\n"
     ]
    },
    {
     "data": {
      "image/png": "[encoded data removed]",
      "text/plain": [
       "<Figure size 720x432 with 1 Axes>"
      ]
     },
     "metadata": {
      "needs_background": "light"
     },
     "output_type": "display_data"
    }
   ],
   "source": [
    "x = [\"unique_questions\" , \"Repeated Questions\"]\n",
    "y =  [unique_qids , qs_morethan_onetime]\n",
    "\n",
    "plt.figure(figsize=(10, 6))\n",
    "plt.title (\"Plot representing unique and repeated questions  \")\n",
    "sns.barplot(x,y)\n",
    "plt.show()"
   ]
  },
  {
   "cell_type": "code",
   "execution_count": 22,
   "metadata": {},
   "outputs": [
    {
     "name": "stdout",
     "output_type": "stream",
     "text": [
      "Number of duplicate questions 0\n"
     ]
    }
   ],
   "source": [
    "#checking whether there are any repeated pair of questions\n",
    "\n",
    "pair_duplicates = df[['qid1','qid2','is_duplicate']].groupby(['qid1','qid2']).count().reset_index()\n",
    "\n",
    "print (\"Number of duplicate questions\",(pair_duplicates).shape[0] - df.shape[0])"
   ]
  },
  {
   "cell_type": "code",
   "execution_count": 24,
   "metadata": {},
   "outputs": [
    {
     "name": "stderr",
     "output_type": "stream",
     "text": [
      "C:\\Users\\Suraj\\anaconda3\\envs\\tensorflowenv\\lib\\site-packages\\ipykernel_launcher.py:7: MatplotlibDeprecationWarning:\n",
      "\n",
      "The 'nonposy' parameter of __init__() has been renamed 'nonpositive' since Matplotlib 3.3; support for the old name will be dropped two minor releases later.\n",
      "\n"
     ]
    },
    {
     "name": "stdout",
     "output_type": "stream",
     "text": [
      "Maximum number of times a single question is repeated: 157\n",
      "\n"
     ]
    },
    {
     "data": {
      "image/png": "[encoded data removed]",
      "text/plain": [
       "<Figure size 1440x720 with 1 Axes>"
      ]
     },
     "metadata": {
      "needs_background": "light"
     },
     "output_type": "display_data"
    }
   ],
   "source": [
    "#Number of occurrences of each question\n",
    "\n",
    "plt.figure(figsize=(20, 10))\n",
    "\n",
    "plt.hist(qids.value_counts(), bins=160)\n",
    "\n",
    "plt.yscale('log', nonposy='clip')\n",
    "\n",
    "plt.title('Log-Histogram of question appearance counts')\n",
    "\n",
    "plt.xlabel('Number of occurences of question')\n",
    "\n",
    "plt.ylabel('Number of questions')\n",
    "\n",
    "print ('Maximum number of times a single question is repeated: {}\\n'.format(max(qids.value_counts()))) "
   ]
  },
  {
   "cell_type": "code",
   "execution_count": 41,
   "metadata": {},
   "outputs": [
    {
     "name": "stdout",
     "output_type": "stream",
     "text": [
      "Empty DataFrame\n",
      "Columns: [id, qid1, qid2, question1, question2, is_duplicate]\n",
      "Index: []\n"
     ]
    }
   ],
   "source": [
    "#Checking whether there are any rows with null values\n",
    "nan_rows = df[df.isnull().any(1)]\n",
    "print (nan_rows)"
   ]
  },
  {
   "cell_type": "code",
   "execution_count": 42,
   "metadata": {},
   "outputs": [],
   "source": [
    "#Cleaning\n",
    "\n",
    "\n",
    "SPECIAL_TOKENS = {\n",
    "    'quoted': 'quoted_item',\n",
    "    'non-ascii': 'non_ascii_word',\n",
    "    'undefined': 'something'\n",
    "}\n",
    "\n",
    "from string import punctuation\n",
    "stop_words = stopwords.words('english')\n",
    "\n",
    "def clean(text, stem_words=True):\n",
    "\n",
    "    \n",
    "    if pd.isnull(text):\n",
    "        return ''\n",
    "\n",
    "    if type(text) != str or text=='':\n",
    "        return ''\n",
    "    ps = PorterStemmer()\n",
    "    \n",
    "    text = re.sub(\"\\'s\", \" \", text) # we have cases like \"Sam is\" or \"Sam's\" (i.e. his) these two cases aren't separable, I choose to compromise are kill \"'s\" directly\n",
    "    text = re.sub(\" whats \", \" what is \", text, flags=re.IGNORECASE)\n",
    "    text = re.sub(\"\\'ve\", \" have \", text)\n",
    "    text = re.sub(\"can't\", \"can not\", text)\n",
    "    text = re.sub(\"n't\", \" not \", text)\n",
    "    text = re.sub(\"i'm\", \"i am\", text, flags=re.IGNORECASE)\n",
    "    text = re.sub(\"\\'re\", \" are \", text)\n",
    "    text = re.sub(\"\\'d\", \" would \", text)\n",
    "    text = re.sub(\"\\'ll\", \" will \", text)\n",
    "    text = re.sub(\"e\\.g\\.\", \" eg \", text, flags=re.IGNORECASE)\n",
    "    text = re.sub(\"b\\.g\\.\", \" bg \", text, flags=re.IGNORECASE)\n",
    "    text = re.sub(\"(\\d+)(kK)\", \" \\g<1>000 \", text)\n",
    "    text = re.sub(\"e-mail\", \" email \", text, flags=re.IGNORECASE)\n",
    "    text = re.sub(\"(the[\\s]+|The[\\s]+)?U\\.S\\.A\\.\", \" America \", text, flags=re.IGNORECASE)\n",
    "    text = re.sub(\"(the[\\s]+|The[\\s]+)?United State(s)?\", \" America \", text, flags=re.IGNORECASE)\n",
    "    text = re.sub(\"\\(s\\)\", \" \", text, flags=re.IGNORECASE)\n",
    "    text = re.sub(\"[c-fC-F]\\:\\/\", \" disk \", text)\n",
    "    \n",
    "    # remove comma between numbers, i.e. 15,000 -> 15000\n",
    "    \n",
    "    text = re.sub('(?<=[0-9])\\,(?=[0-9])', \"\", text)\n",
    "    text = re.sub('\\$', \" dollar \", text)\n",
    "    text = re.sub('\\%', \" percent \", text)\n",
    "    text = re.sub('\\&', \" and \", text)\n",
    "    \n",
    "       # Return a list of words\n",
    "    text = ' '.join([word for word in text.split(\" \") if word not in stop_words]).lower()\n",
    "    #text = ' '.join([ps.stem(word) for word in text])\n",
    "    return text\n",
    "\n",
    "    \n",
    "\n"
   ]
  },
  {
   "cell_type": "code",
   "execution_count": 43,
   "metadata": {},
   "outputs": [],
   "source": [
    "df['question1'] = df['question1'].apply(clean)\n",
    "df['question2'] = df['question2'].apply(clean)"
   ]
  },
  {
   "cell_type": "code",
   "execution_count": 44,
   "metadata": {},
   "outputs": [
    {
     "data": {
      "text/html": [
       "<div>\n",
       "<style scoped>\n",
       "    .dataframe tbody tr th:only-of-type {\n",
       "        vertical-align: middle;\n",
       "    }\n",
       "\n",
       "    .dataframe tbody tr th {\n",
       "        vertical-align: top;\n",
       "    }\n",
       "\n",
       "    .dataframe thead th {\n",
       "        text-align: right;\n",
       "    }\n",
       "</style>\n",
       "<table border=\"1\" class=\"dataframe\">\n",
       "  <thead>\n",
       "    <tr style=\"text-align: right;\">\n",
       "      <th></th>\n",
       "      <th>id</th>\n",
       "      <th>qid1</th>\n",
       "      <th>qid2</th>\n",
       "      <th>question1</th>\n",
       "      <th>question2</th>\n",
       "      <th>is_duplicate</th>\n",
       "    </tr>\n",
       "  </thead>\n",
       "  <tbody>\n",
       "    <tr>\n",
       "      <th>0</th>\n",
       "      <td>0</td>\n",
       "      <td>1</td>\n",
       "      <td>2</td>\n",
       "      <td>what step step guide invest share market india?</td>\n",
       "      <td>what step step guide invest share market?</td>\n",
       "      <td>0</td>\n",
       "    </tr>\n",
       "    <tr>\n",
       "      <th>1</th>\n",
       "      <td>1</td>\n",
       "      <td>3</td>\n",
       "      <td>4</td>\n",
       "      <td>what story kohinoor (koh-i-noor) diamond?</td>\n",
       "      <td>what would happen indian government stole kohi...</td>\n",
       "      <td>0</td>\n",
       "    </tr>\n",
       "    <tr>\n",
       "      <th>2</th>\n",
       "      <td>2</td>\n",
       "      <td>5</td>\n",
       "      <td>6</td>\n",
       "      <td>how i increase speed internet connection using...</td>\n",
       "      <td>how internet speed increased hacking dns?</td>\n",
       "      <td>0</td>\n",
       "    </tr>\n",
       "    <tr>\n",
       "      <th>3</th>\n",
       "      <td>3</td>\n",
       "      <td>7</td>\n",
       "      <td>8</td>\n",
       "      <td>why i mentally lonely? how i solve it?</td>\n",
       "      <td>find remainder [math]23^{24}[/math] divided 2423?</td>\n",
       "      <td>0</td>\n",
       "    </tr>\n",
       "    <tr>\n",
       "      <th>4</th>\n",
       "      <td>4</td>\n",
       "      <td>9</td>\n",
       "      <td>10</td>\n",
       "      <td>which one dissolve water quikly sugar, salt, m...</td>\n",
       "      <td>which fish would survive salt water?</td>\n",
       "      <td>0</td>\n",
       "    </tr>\n",
       "  </tbody>\n",
       "</table>\n",
       "</div>"
      ],
      "text/plain": [
       "   id  qid1  qid2                                          question1  \\\n",
       "0   0     1     2    what step step guide invest share market india?   \n",
       "1   1     3     4          what story kohinoor (koh-i-noor) diamond?   \n",
       "2   2     5     6  how i increase speed internet connection using...   \n",
       "3   3     7     8             why i mentally lonely? how i solve it?   \n",
       "4   4     9    10  which one dissolve water quikly sugar, salt, m...   \n",
       "\n",
       "                                           question2  is_duplicate  \n",
       "0          what step step guide invest share market?             0  \n",
       "1  what would happen indian government stole kohi...             0  \n",
       "2          how internet speed increased hacking dns?             0  \n",
       "3  find remainder [math]23^{24}[/math] divided 2423?             0  \n",
       "4               which fish would survive salt water?             0  "
      ]
     },
     "execution_count": 44,
     "metadata": {},
     "output_type": "execute_result"
    }
   ],
   "source": [
    "df.head()"
   ]
  },
  {
   "cell_type": "markdown",
   "metadata": {},
   "source": [
    "#### Computing Word Mover's Distance (WMD)"
   ]
  },
  {
   "cell_type": "markdown",
   "metadata": {},
   "source": [
    "The WMD measures the dissimilarity between two text documents the minimum amount of distance that the embedded words of one document need to reach the embedded words of another document."
   ]
  },
  {
   "cell_type": "code",
   "execution_count": 92,
   "metadata": {},
   "outputs": [],
   "source": [
    "question1 = 'What would a Trump presidency mean for current international master’s students on an F1 visa?'\n",
    "question2 = 'How will a Trump presidency affect the students presently in US or planning to study in US?'\n",
    "\n",
    "question1 = question1.lower().split()\n",
    "question2 = question2.lower().split()\n",
    "\n",
    "question1 = [w for w in question1 if w not in stop_words]\n",
    "question2 = [w for w in question2 if w not in stop_words]"
   ]
  },
  {
   "cell_type": "code",
   "execution_count": 51,
   "metadata": {},
   "outputs": [],
   "source": [
    "import gensim\n",
    "#from smart_open import open\n",
    "import smart_open\n",
    "from gensim.models import Word2Vec\n",
    "    \n",
    "model = gensim.models.KeyedVectors.load_word2vec_format('GoogleNews-vectors-negative300.bin.gz', binary=True)"
   ]
  },
  {
   "cell_type": "code",
   "execution_count": 93,
   "metadata": {},
   "outputs": [
    {
     "name": "stdout",
     "output_type": "stream",
     "text": [
      "distance = 1.8293\n"
     ]
    }
   ],
   "source": [
    "distance = model.wmdistance(question1, question2)\n",
    "print('distance = %.4f' % distance)"
   ]
  },
  {
   "cell_type": "code",
   "execution_count": 53,
   "metadata": {},
   "outputs": [
    {
     "name": "stdout",
     "output_type": "stream",
     "text": [
      "normalized distance = 0.7589\n"
     ]
    }
   ],
   "source": [
    "model.init_sims(replace=True)\n",
    "distance = model.wmdistance(question1, question2)\n",
    "print('normalized distance = %.4f' % distance)"
   ]
  },
  {
   "cell_type": "code",
   "execution_count": 14,
   "metadata": {},
   "outputs": [
    {
     "name": "stdout",
     "output_type": "stream",
     "text": [
      "distance = 1.2637\n"
     ]
    }
   ],
   "source": [
    "question3 = 'Why am I mentally very lonely? How can I solve it?'\n",
    "question4 = 'Find the remainder when [math]23^{24}[/math] is divided by 24,23?'\n",
    "\n",
    "question3 = question3.lower().split()\n",
    "question4 = question4.lower().split()\n",
    "\n",
    "question3 = [w for w in question3 if w not in stop_words]\n",
    "question4 = [w for w in question4 if w not in stop_words]\n",
    "\n",
    "distance = model.wmdistance(question3, question4)\n",
    "print('distance = %.4f' % distance)"
   ]
  },
  {
   "cell_type": "code",
   "execution_count": 15,
   "metadata": {},
   "outputs": [
    {
     "name": "stdout",
     "output_type": "stream",
     "text": [
      "normalized distance = 1.2637\n"
     ]
    }
   ],
   "source": [
    "model.init_sims(replace=True)\n",
    "distance = model.wmdistance(question3, question4)\n",
    "print('normalized distance = %.4f' % distance)"
   ]
  },
  {
   "cell_type": "markdown",
   "metadata": {},
   "source": [
    "### soft cosine"
   ]
  },
  {
   "cell_type": "code",
   "execution_count": 16,
   "metadata": {},
   "outputs": [],
   "source": [
    "from gensim import corpora\n",
    "documents = [question1, question2, question3, question4]\n",
    "dictionary = corpora.Dictionary(documents)\n",
    "corpus = [dictionary.doc2bow(document) for document in documents]\n",
    "\n",
    "# Convert the sentences into bag-of-words vectors.\n",
    "question1 = dictionary.doc2bow(question1)\n",
    "question2 = dictionary.doc2bow(question2)\n",
    "question3 = dictionary.doc2bow(question3)\n",
    "question4 = dictionary.doc2bow(question4)"
   ]
  },
  {
   "cell_type": "code",
   "execution_count": 21,
   "metadata": {},
   "outputs": [
    {
     "name": "stdout",
     "output_type": "stream",
     "text": [
      "[==================================================] 100.0% 66.0/66.0MB downloaded\n"
     ]
    },
    {
     "name": "stderr",
     "output_type": "stream",
     "text": [
      "C:\\Users\\Suraj\\anaconda3\\envs\\tensorflowenv\\lib\\site-packages\\ipykernel_launcher.py:4: DeprecationWarning:\n",
      "\n",
      "Call to deprecated `similarity_matrix` (Method will be removed in 4.0.0, use gensim.models.keyedvectors.WordEmbeddingSimilarityIndex instead).\n",
      "\n"
     ]
    }
   ],
   "source": [
    "import gensim.downloader as api\n",
    "\n",
    "w2v_model = api.load(\"glove-wiki-gigaword-50\")\n",
    "similarity_matrix = w2v_model.similarity_matrix(dictionary)"
   ]
  },
  {
   "cell_type": "code",
   "execution_count": 22,
   "metadata": {},
   "outputs": [
    {
     "data": {
      "text/plain": [
       "<25x25 sparse matrix of type '<class 'numpy.float32'>'\n",
       "\twith 47 stored elements in Compressed Sparse Column format>"
      ]
     },
     "execution_count": 22,
     "metadata": {},
     "output_type": "execute_result"
    }
   ],
   "source": [
    "similarity_matrix"
   ]
  },
  {
   "cell_type": "code",
   "execution_count": 23,
   "metadata": {},
   "outputs": [
    {
     "name": "stdout",
     "output_type": "stream",
     "text": [
      "similarity = 0.4756\n"
     ]
    },
    {
     "name": "stderr",
     "output_type": "stream",
     "text": [
      "C:\\Users\\Suraj\\anaconda3\\envs\\tensorflowenv\\lib\\site-packages\\ipykernel_launcher.py:3: DeprecationWarning:\n",
      "\n",
      "Call to deprecated `softcossim` (Function will be removed in 4.0.0, use gensim.similarities.termsim.SparseTermSimilarityMatrix.inner_product instead).\n",
      "\n"
     ]
    }
   ],
   "source": [
    "from gensim.matutils import softcossim\n",
    "\n",
    "similarity = softcossim(question1, question2, similarity_matrix)\n",
    "print('similarity = %.4f' % similarity)"
   ]
  },
  {
   "cell_type": "code",
   "execution_count": 25,
   "metadata": {},
   "outputs": [
    {
     "name": "stdout",
     "output_type": "stream",
     "text": [
      "similarity = 0.0942\n"
     ]
    },
    {
     "name": "stderr",
     "output_type": "stream",
     "text": [
      "C:\\Users\\Suraj\\anaconda3\\envs\\tensorflowenv\\lib\\site-packages\\ipykernel_launcher.py:1: DeprecationWarning:\n",
      "\n",
      "Call to deprecated `softcossim` (Function will be removed in 4.0.0, use gensim.similarities.termsim.SparseTermSimilarityMatrix.inner_product instead).\n",
      "\n"
     ]
    }
   ],
   "source": [
    "similarity = softcossim(question3, question4, similarity_matrix)\n",
    "print('similarity = %.4f' % similarity)"
   ]
  },
  {
   "cell_type": "markdown",
   "metadata": {},
   "source": [
    "### FuzzyWuzzy"
   ]
  },
  {
   "cell_type": "code",
   "execution_count": 26,
   "metadata": {},
   "outputs": [],
   "source": [
    "from fuzzywuzzy import fuzz"
   ]
  },
  {
   "cell_type": "code",
   "execution_count": 27,
   "metadata": {},
   "outputs": [
    {
     "data": {
      "text/plain": [
       "53"
      ]
     },
     "execution_count": 27,
     "metadata": {},
     "output_type": "execute_result"
    }
   ],
   "source": [
    "question1 = 'What would a Trump presidency mean for current international master’s students on an F1 visa?'\n",
    "question2 = 'How will a Trump presidency affect the students presently in US or planning to study in US?'\n",
    "fuzz.ratio(question1, question2)"
   ]
  },
  {
   "cell_type": "code",
   "execution_count": 28,
   "metadata": {},
   "outputs": [
    {
     "data": {
      "text/plain": [
       "100"
      ]
     },
     "execution_count": 28,
     "metadata": {},
     "output_type": "execute_result"
    }
   ],
   "source": [
    "fuzz.partial_token_set_ratio(question1, question2)"
   ]
  },
  {
   "cell_type": "code",
   "execution_count": 29,
   "metadata": {},
   "outputs": [],
   "source": [
    "question3 = 'Why am I mentally very lonely? How can I solve it?'\n",
    "question4 = 'Find the remainder when [math]23^{24}[/math] is divided by 24,23?'"
   ]
  },
  {
   "cell_type": "code",
   "execution_count": 30,
   "metadata": {},
   "outputs": [
    {
     "data": {
      "text/plain": [
       "28"
      ]
     },
     "execution_count": 30,
     "metadata": {},
     "output_type": "execute_result"
    }
   ],
   "source": [
    "fuzz.ratio(question3, question4)"
   ]
  },
  {
   "cell_type": "code",
   "execution_count": 31,
   "metadata": {},
   "outputs": [
    {
     "data": {
      "text/plain": [
       "37"
      ]
     },
     "execution_count": 31,
     "metadata": {},
     "output_type": "execute_result"
    }
   ],
   "source": [
    "fuzz.partial_token_set_ratio(question3, question4)"
   ]
  },
  {
   "cell_type": "code",
   "execution_count": 45,
   "metadata": {},
   "outputs": [
    {
     "data": {
      "text/html": [
       "<div>\n",
       "<style scoped>\n",
       "    .dataframe tbody tr th:only-of-type {\n",
       "        vertical-align: middle;\n",
       "    }\n",
       "\n",
       "    .dataframe tbody tr th {\n",
       "        vertical-align: top;\n",
       "    }\n",
       "\n",
       "    .dataframe thead th {\n",
       "        text-align: right;\n",
       "    }\n",
       "</style>\n",
       "<table border=\"1\" class=\"dataframe\">\n",
       "  <thead>\n",
       "    <tr style=\"text-align: right;\">\n",
       "      <th></th>\n",
       "      <th>id</th>\n",
       "      <th>qid1</th>\n",
       "      <th>qid2</th>\n",
       "      <th>question1</th>\n",
       "      <th>question2</th>\n",
       "      <th>is_duplicate</th>\n",
       "    </tr>\n",
       "  </thead>\n",
       "  <tbody>\n",
       "    <tr>\n",
       "      <th>0</th>\n",
       "      <td>0</td>\n",
       "      <td>1</td>\n",
       "      <td>2</td>\n",
       "      <td>what step step guide invest share market india?</td>\n",
       "      <td>what step step guide invest share market?</td>\n",
       "      <td>0</td>\n",
       "    </tr>\n",
       "    <tr>\n",
       "      <th>1</th>\n",
       "      <td>1</td>\n",
       "      <td>3</td>\n",
       "      <td>4</td>\n",
       "      <td>what story kohinoor (koh-i-noor) diamond?</td>\n",
       "      <td>what would happen indian government stole kohi...</td>\n",
       "      <td>0</td>\n",
       "    </tr>\n",
       "    <tr>\n",
       "      <th>2</th>\n",
       "      <td>2</td>\n",
       "      <td>5</td>\n",
       "      <td>6</td>\n",
       "      <td>how i increase speed internet connection using...</td>\n",
       "      <td>how internet speed increased hacking dns?</td>\n",
       "      <td>0</td>\n",
       "    </tr>\n",
       "    <tr>\n",
       "      <th>3</th>\n",
       "      <td>3</td>\n",
       "      <td>7</td>\n",
       "      <td>8</td>\n",
       "      <td>why i mentally lonely? how i solve it?</td>\n",
       "      <td>find remainder [math]23^{24}[/math] divided 2423?</td>\n",
       "      <td>0</td>\n",
       "    </tr>\n",
       "    <tr>\n",
       "      <th>4</th>\n",
       "      <td>4</td>\n",
       "      <td>9</td>\n",
       "      <td>10</td>\n",
       "      <td>which one dissolve water quikly sugar, salt, m...</td>\n",
       "      <td>which fish would survive salt water?</td>\n",
       "      <td>0</td>\n",
       "    </tr>\n",
       "  </tbody>\n",
       "</table>\n",
       "</div>"
      ],
      "text/plain": [
       "   id  qid1  qid2                                          question1  \\\n",
       "0   0     1     2    what step step guide invest share market india?   \n",
       "1   1     3     4          what story kohinoor (koh-i-noor) diamond?   \n",
       "2   2     5     6  how i increase speed internet connection using...   \n",
       "3   3     7     8             why i mentally lonely? how i solve it?   \n",
       "4   4     9    10  which one dissolve water quikly sugar, salt, m...   \n",
       "\n",
       "                                           question2  is_duplicate  \n",
       "0          what step step guide invest share market?             0  \n",
       "1  what would happen indian government stole kohi...             0  \n",
       "2          how internet speed increased hacking dns?             0  \n",
       "3  find remainder [math]23^{24}[/math] divided 2423?             0  \n",
       "4               which fish would survive salt water?             0  "
      ]
     },
     "execution_count": 45,
     "metadata": {},
     "output_type": "execute_result"
    }
   ],
   "source": [
    "df.head()"
   ]
  },
  {
   "cell_type": "code",
   "execution_count": 46,
   "metadata": {},
   "outputs": [],
   "source": [
    "df.drop(['id', 'qid1', 'qid2'], axis=1, inplace=True)"
   ]
  },
  {
   "cell_type": "code",
   "execution_count": 47,
   "metadata": {},
   "outputs": [
    {
     "data": {
      "text/html": [
       "<div>\n",
       "<style scoped>\n",
       "    .dataframe tbody tr th:only-of-type {\n",
       "        vertical-align: middle;\n",
       "    }\n",
       "\n",
       "    .dataframe tbody tr th {\n",
       "        vertical-align: top;\n",
       "    }\n",
       "\n",
       "    .dataframe thead th {\n",
       "        text-align: right;\n",
       "    }\n",
       "</style>\n",
       "<table border=\"1\" class=\"dataframe\">\n",
       "  <thead>\n",
       "    <tr style=\"text-align: right;\">\n",
       "      <th></th>\n",
       "      <th>question1</th>\n",
       "      <th>question2</th>\n",
       "      <th>is_duplicate</th>\n",
       "    </tr>\n",
       "  </thead>\n",
       "  <tbody>\n",
       "    <tr>\n",
       "      <th>0</th>\n",
       "      <td>what step step guide invest share market india?</td>\n",
       "      <td>what step step guide invest share market?</td>\n",
       "      <td>0</td>\n",
       "    </tr>\n",
       "    <tr>\n",
       "      <th>1</th>\n",
       "      <td>what story kohinoor (koh-i-noor) diamond?</td>\n",
       "      <td>what would happen indian government stole kohi...</td>\n",
       "      <td>0</td>\n",
       "    </tr>\n",
       "    <tr>\n",
       "      <th>2</th>\n",
       "      <td>how i increase speed internet connection using...</td>\n",
       "      <td>how internet speed increased hacking dns?</td>\n",
       "      <td>0</td>\n",
       "    </tr>\n",
       "    <tr>\n",
       "      <th>3</th>\n",
       "      <td>why i mentally lonely? how i solve it?</td>\n",
       "      <td>find remainder [math]23^{24}[/math] divided 2423?</td>\n",
       "      <td>0</td>\n",
       "    </tr>\n",
       "    <tr>\n",
       "      <th>4</th>\n",
       "      <td>which one dissolve water quikly sugar, salt, m...</td>\n",
       "      <td>which fish would survive salt water?</td>\n",
       "      <td>0</td>\n",
       "    </tr>\n",
       "  </tbody>\n",
       "</table>\n",
       "</div>"
      ],
      "text/plain": [
       "                                           question1  \\\n",
       "0    what step step guide invest share market india?   \n",
       "1          what story kohinoor (koh-i-noor) diamond?   \n",
       "2  how i increase speed internet connection using...   \n",
       "3             why i mentally lonely? how i solve it?   \n",
       "4  which one dissolve water quikly sugar, salt, m...   \n",
       "\n",
       "                                           question2  is_duplicate  \n",
       "0          what step step guide invest share market?             0  \n",
       "1  what would happen indian government stole kohi...             0  \n",
       "2          how internet speed increased hacking dns?             0  \n",
       "3  find remainder [math]23^{24}[/math] divided 2423?             0  \n",
       "4               which fish would survive salt water?             0  "
      ]
     },
     "execution_count": 47,
     "metadata": {},
     "output_type": "execute_result"
    }
   ],
   "source": [
    "df.head()"
   ]
  },
  {
   "cell_type": "code",
   "execution_count": 55,
   "metadata": {},
   "outputs": [],
   "source": [
    "question1_vectors = np.zeros((df.shape[0], 300))"
   ]
  },
  {
   "cell_type": "code",
   "execution_count": 64,
   "metadata": {},
   "outputs": [
    {
     "data": {
      "text/plain": [
       "'what step step guide invest share market india?'"
      ]
     },
     "execution_count": 64,
     "metadata": {},
     "output_type": "execute_result"
    }
   ],
   "source": [
    "s = df.question1.values[0]\n",
    "s"
   ]
  },
  {
   "cell_type": "code",
   "execution_count": 63,
   "metadata": {},
   "outputs": [
    {
     "name": "stdout",
     "output_type": "stream",
     "text": [
      "After tokenization ['what', 'step', 'step', 'guide', 'invest', 'share', 'market', 'india', '?']\n",
      "M is [array([-0.07852414,  0.04130891,  0.04205321, -0.04391398, -0.07666337,\n",
      "       -0.02772535,  0.03628485, -0.06810387,  0.02018926,  0.06289374,\n",
      "        0.07889629, -0.0280975 ,  0.11685583, -0.02205002, -0.05582285,\n",
      "        0.03795954,  0.0647545 , -0.03721523,  0.01432786, -0.06177729,\n",
      "        0.07108109,  0.04205321,  0.04912411, -0.00632659,  0.03926207,\n",
      "        0.04949626, -0.00059021, -0.01349052, -0.01767723,  0.05396209,\n",
      "       -0.04075068,  0.01544432,  0.02902788,  0.03070257, -0.04949626,\n",
      "       -0.00534969,  0.07777984,  0.04986841,  0.0202823 ,  0.02623674,\n",
      "       -0.06884818, -0.00637311,  0.01553736, -0.00300048, -0.05991652,\n",
      "       -0.0967596 , -0.10122543,  0.02605066, -0.09303808,  0.01693293,\n",
      "       -0.0156304 ,  0.0647545 ,  0.0183285 , -0.12206596,  0.09750391,\n",
      "        0.01153672, -0.02139876, -0.06363805, -0.00902469,  0.01302533,\n",
      "       -0.08745579,  0.00225617, -0.00804779,  0.03330763,  0.02977219,\n",
      "       -0.01739812,  0.00544273,  0.0569393 , -0.07815199,  0.05358993,\n",
      "       -0.1585369 , -0.02474813, -0.05656715, -0.06959248,  0.00595444,\n",
      "       -0.01525825,  0.09527099,  0.04130891,  0.0967596 ,  0.07815199,\n",
      "        0.03293548, -0.0222361 ,  0.15630397, -0.05284563,  0.129509  ,\n",
      "        0.02567851,  0.00809431, -0.05135702,  0.10494696, -0.01209495,\n",
      "        0.13620774,  0.01116457, -0.0114902 , -0.09973682,  0.04912411,\n",
      "       -0.1265318 , -0.08001275,  0.06661527, -0.01311837, -0.04949626,\n",
      "       -0.05135702,  0.01860762,  0.00995507, -0.01107153,  0.01339748,\n",
      "       -0.00460539,  0.06289374, -0.03386586,  0.03535447,  0.02753927,\n",
      "       -0.00995507,  0.0214918 ,  0.03516839,  0.02474813,  0.01516521,\n",
      "        0.07070894,  0.00739653,  0.04205321, -0.0003111 , -0.02716712,\n",
      "        0.01237406,  0.04149498, -0.06214944,  0.0554507 , -0.02623674,\n",
      "        0.01055982,  0.04149498,  0.02846965,  0.04521651,  0.05210133,\n",
      "        0.00748957, -0.04949626,  0.02995826,  0.12132166,  0.08373427,\n",
      "       -0.03330763,  0.00181424,  0.05396209, -0.03237725,  0.08968871,\n",
      "        0.07554692, -0.01423483, -0.03740131,  0.03367978,  0.01842154,\n",
      "        0.07666337,  0.0280975 , -0.04112283,  0.04651904, -0.06884818,\n",
      "        0.03386586,  0.02130572, -0.04744942,  0.0011339 ,  0.00416345,\n",
      "        0.05210133,  0.00220965, -0.08298997, -0.01404875,  0.00814083,\n",
      "        0.0483798 , -0.01572344,  0.05656715, -0.05805576, -0.03628485,\n",
      "       -0.12281027,  0.05582285,  0.00962944,  0.02093357, -0.02995826,\n",
      "       -0.00472168, -0.06587096, -0.01823546,  0.00216314,  0.10122543,\n",
      "       -0.00246551,  0.03349371, -0.01376964,  0.01721204,  0.129509  ,\n",
      "       -0.10941278, -0.02139876, -0.02158483, -0.10048113,  0.01888673,\n",
      "        0.02084053, -0.00725697,  0.08261781,  0.04205321, -0.03014434,\n",
      "        0.06996464,  0.04465828,  0.10420265, -0.04577474, -0.12504318,\n",
      "       -0.04019245, -0.03833169,  0.08745579,  0.07443047, -0.04689119,\n",
      "       -0.03293548,  0.04875195,  0.06959248,  0.04670512,  0.02270129,\n",
      "        0.00990856,  0.04596081, -0.09415454,  0.09415454, -0.0554507 ,\n",
      "        0.09750391,  0.10569126, -0.1265318 ,  0.00374478, -0.08336212,\n",
      "        0.02307344,  0.11760014, -0.04168106,  0.03163295, -0.08112921,\n",
      "       -0.00772216, -0.0437279 , -0.04875195, -0.01209495,  0.04484436,\n",
      "       -0.00027185,  0.03684308, -0.08112921,  0.06028868,  0.02065445,\n",
      "       -0.02716712,  0.03740131, -0.0359127 ,  0.0632659 , -0.02000319,\n",
      "        0.03870384, -0.15630397, -0.01190887, -0.05210133,  0.01656078,\n",
      "        0.01544432,  0.0175842 ,  0.02605066, -0.01870065,  0.11015709,\n",
      "       -0.0554507 ,  0.01721204,  0.04205321,  0.08224566, -0.08224566,\n",
      "       -0.03144687,  0.03907599, -0.04949626, -0.03051649,  0.02121268,\n",
      "        0.03740131,  0.0437279 ,  0.01609559, -0.0640102 , -0.02698104,\n",
      "        0.00525665, -0.01739812, -0.00287255,  0.0009362 ,  0.15704829,\n",
      "        0.01749116,  0.02623674,  0.00590792, -0.11908875, -0.00024713,\n",
      "        0.03740131,  0.14290649,  0.06028868,  0.02260825,  0.03963422,\n",
      "        0.01339748, -0.04316967, -0.03144687, -0.00711741,  0.06884818,\n",
      "        0.03721523, -0.10866848,  0.03833169,  0.05098487,  0.02958611,\n",
      "        0.03833169, -0.05880007,  0.01079242, -0.06884818,  0.00376804,\n",
      "       -0.16895716,  0.02940003, -0.06066083, -0.03870384, -0.0803849 ,\n",
      "        0.01256014,  0.03944815,  0.11536722,  0.02307344, -0.00869906],\n",
      "      dtype=float32), array([-0.07852414,  0.04130891,  0.04205321, -0.04391398, -0.07666337,\n",
      "       -0.02772535,  0.03628485, -0.06810387,  0.02018926,  0.06289374,\n",
      "        0.07889629, -0.0280975 ,  0.11685583, -0.02205002, -0.05582285,\n",
      "        0.03795954,  0.0647545 , -0.03721523,  0.01432786, -0.06177729,\n",
      "        0.07108109,  0.04205321,  0.04912411, -0.00632659,  0.03926207,\n",
      "        0.04949626, -0.00059021, -0.01349052, -0.01767723,  0.05396209,\n",
      "       -0.04075068,  0.01544432,  0.02902788,  0.03070257, -0.04949626,\n",
      "       -0.00534969,  0.07777984,  0.04986841,  0.0202823 ,  0.02623674,\n",
      "       -0.06884818, -0.00637311,  0.01553736, -0.00300048, -0.05991652,\n",
      "       -0.0967596 , -0.10122543,  0.02605066, -0.09303808,  0.01693293,\n",
      "       -0.0156304 ,  0.0647545 ,  0.0183285 , -0.12206596,  0.09750391,\n",
      "        0.01153672, -0.02139876, -0.06363805, -0.00902469,  0.01302533,\n",
      "       -0.08745579,  0.00225617, -0.00804779,  0.03330763,  0.02977219,\n",
      "       -0.01739812,  0.00544273,  0.0569393 , -0.07815199,  0.05358993,\n",
      "       -0.1585369 , -0.02474813, -0.05656715, -0.06959248,  0.00595444,\n",
      "       -0.01525825,  0.09527099,  0.04130891,  0.0967596 ,  0.07815199,\n",
      "        0.03293548, -0.0222361 ,  0.15630397, -0.05284563,  0.129509  ,\n",
      "        0.02567851,  0.00809431, -0.05135702,  0.10494696, -0.01209495,\n",
      "        0.13620774,  0.01116457, -0.0114902 , -0.09973682,  0.04912411,\n",
      "       -0.1265318 , -0.08001275,  0.06661527, -0.01311837, -0.04949626,\n",
      "       -0.05135702,  0.01860762,  0.00995507, -0.01107153,  0.01339748,\n",
      "       -0.00460539,  0.06289374, -0.03386586,  0.03535447,  0.02753927,\n",
      "       -0.00995507,  0.0214918 ,  0.03516839,  0.02474813,  0.01516521,\n",
      "        0.07070894,  0.00739653,  0.04205321, -0.0003111 , -0.02716712,\n",
      "        0.01237406,  0.04149498, -0.06214944,  0.0554507 , -0.02623674,\n",
      "        0.01055982,  0.04149498,  0.02846965,  0.04521651,  0.05210133,\n",
      "        0.00748957, -0.04949626,  0.02995826,  0.12132166,  0.08373427,\n",
      "       -0.03330763,  0.00181424,  0.05396209, -0.03237725,  0.08968871,\n",
      "        0.07554692, -0.01423483, -0.03740131,  0.03367978,  0.01842154,\n",
      "        0.07666337,  0.0280975 , -0.04112283,  0.04651904, -0.06884818,\n",
      "        0.03386586,  0.02130572, -0.04744942,  0.0011339 ,  0.00416345,\n",
      "        0.05210133,  0.00220965, -0.08298997, -0.01404875,  0.00814083,\n",
      "        0.0483798 , -0.01572344,  0.05656715, -0.05805576, -0.03628485,\n",
      "       -0.12281027,  0.05582285,  0.00962944,  0.02093357, -0.02995826,\n",
      "       -0.00472168, -0.06587096, -0.01823546,  0.00216314,  0.10122543,\n",
      "       -0.00246551,  0.03349371, -0.01376964,  0.01721204,  0.129509  ,\n",
      "       -0.10941278, -0.02139876, -0.02158483, -0.10048113,  0.01888673,\n",
      "        0.02084053, -0.00725697,  0.08261781,  0.04205321, -0.03014434,\n",
      "        0.06996464,  0.04465828,  0.10420265, -0.04577474, -0.12504318,\n",
      "       -0.04019245, -0.03833169,  0.08745579,  0.07443047, -0.04689119,\n",
      "       -0.03293548,  0.04875195,  0.06959248,  0.04670512,  0.02270129,\n",
      "        0.00990856,  0.04596081, -0.09415454,  0.09415454, -0.0554507 ,\n",
      "        0.09750391,  0.10569126, -0.1265318 ,  0.00374478, -0.08336212,\n",
      "        0.02307344,  0.11760014, -0.04168106,  0.03163295, -0.08112921,\n",
      "       -0.00772216, -0.0437279 , -0.04875195, -0.01209495,  0.04484436,\n",
      "       -0.00027185,  0.03684308, -0.08112921,  0.06028868,  0.02065445,\n",
      "       -0.02716712,  0.03740131, -0.0359127 ,  0.0632659 , -0.02000319,\n",
      "        0.03870384, -0.15630397, -0.01190887, -0.05210133,  0.01656078,\n",
      "        0.01544432,  0.0175842 ,  0.02605066, -0.01870065,  0.11015709,\n",
      "       -0.0554507 ,  0.01721204,  0.04205321,  0.08224566, -0.08224566,\n",
      "       -0.03144687,  0.03907599, -0.04949626, -0.03051649,  0.02121268,\n",
      "        0.03740131,  0.0437279 ,  0.01609559, -0.0640102 , -0.02698104,\n",
      "        0.00525665, -0.01739812, -0.00287255,  0.0009362 ,  0.15704829,\n",
      "        0.01749116,  0.02623674,  0.00590792, -0.11908875, -0.00024713,\n",
      "        0.03740131,  0.14290649,  0.06028868,  0.02260825,  0.03963422,\n",
      "        0.01339748, -0.04316967, -0.03144687, -0.00711741,  0.06884818,\n",
      "        0.03721523, -0.10866848,  0.03833169,  0.05098487,  0.02958611,\n",
      "        0.03833169, -0.05880007,  0.01079242, -0.06884818,  0.00376804,\n",
      "       -0.16895716,  0.02940003, -0.06066083, -0.03870384, -0.0803849 ,\n",
      "        0.01256014,  0.03944815,  0.11536722,  0.02307344, -0.00869906],\n",
      "      dtype=float32), array([ 0.01465341, -0.00877338, -0.0530136 , -0.1008005 ,  0.00106751,\n",
      "       -0.00714004, -0.0339735 , -0.02781347, -0.01050005, -0.12842731,\n",
      "        0.06981368,  0.02893348,  0.07989373,  0.03136016, -0.00058334,\n",
      "        0.02538679, -0.00091   ,  0.05040025, -0.06421366, -0.12320061,\n",
      "        0.1814409 ,  0.07018702, -0.08325375,  0.04928024, -0.01194673,\n",
      "        0.03229349, -0.05114692,  0.11424057,  0.02240011, -0.09146712,\n",
      "        0.04293355, -0.03528018, -0.13514733,  0.09632048, -0.02930681,\n",
      "       -0.00443336, -0.07690705, -0.04106687,  0.13589402, -0.07168036,\n",
      "        0.00208834, -0.02744014, -0.02538679,  0.02856014,  0.03005348,\n",
      "       -0.09221379,  0.00201834, -0.06309365,  0.01801342,  0.03304017,\n",
      "       -0.08549376,  0.07018702,  0.04517356, -0.02762681, -0.00448002,\n",
      "       -0.01568008, -0.0201601 , -0.19264096, -0.00084584, -0.00410669,\n",
      "       -0.07765372, -0.0067667 ,  0.02156011,  0.0477869 ,  0.00571669,\n",
      "       -0.05973363, -0.02286678, -0.01138672,  0.05264026, -0.00560003,\n",
      "       -0.00840004,  0.06085364,  0.04069354, -0.08288042,  0.0345335 ,\n",
      "       -0.04125354, -0.04293355,  0.1261873 , -0.03098682,  0.01624008,\n",
      "        0.09408047, -0.04629356, -0.02165344, -0.05562694,  0.07914706,\n",
      "        0.09482714, -0.08138707, -0.0806404 ,  0.0530136 ,  0.01568008,\n",
      "        0.10154717, -0.02464012, -0.05824029,  0.0259468 ,  0.05637361,\n",
      "       -0.04965358, -0.00422335, -0.0604803 , -0.04274688, -0.01792009,\n",
      "       -0.01577341,  0.0530136 , -0.01213339,  0.04517356, -0.03994687,\n",
      "        0.02109344, -0.10304051, -0.04312021, -0.03696018, -0.05973363,\n",
      "       -0.00756004,  0.01764009, -0.01171339, -0.04965358,  0.0408802 ,\n",
      "       -0.01162006, -0.01241339,  0.02837347,  0.02557346, -0.00564669,\n",
      "       -0.06458699,  0.0541336 , -0.01110672, -0.01222673,  0.05525361,\n",
      "        0.04144021, -0.07130702, -0.10901388,  0.03994687,  0.10976055,\n",
      "       -0.0806404 , -0.05786695, -0.05002692,  0.03901353,  0.05002692,\n",
      "        0.07728039, -0.05600028,  0.0461069 ,  0.03229349,  0.07354704,\n",
      "        0.03677352,  0.05488027, -0.09781382,  0.07242703, -0.0003675 ,\n",
      "       -0.02856014, -0.01726675, -0.08549376,  0.04592023, -0.03957353,\n",
      "       -0.09930716, -0.0461069 , -0.10528053,  0.03677352,  0.01204006,\n",
      "       -0.02781347, -0.00044042,  0.01661342, -0.09258713, -0.00728004,\n",
      "        0.06122697,  0.04106687,  0.0477869 , -0.05226693,  0.05898696,\n",
      "        0.01176006,  0.06421366, -0.01969343, -0.05898696, -0.08922711,\n",
      "       -0.02342678,  0.02837347,  0.03826686, -0.0541336 ,  0.01773342,\n",
      "        0.10229384,  0.04125354, -0.04536023, -0.03901353,  0.01428007,\n",
      "       -0.12021393, -0.13290733,  0.00301002, -0.01022005, -0.07653371,\n",
      "       -0.03957353, -0.09632048,  0.01428007,  0.04816024, -0.01894676,\n",
      "        0.02034677, -0.02613346,  0.0477869 ,  0.02118677, -0.09370713,\n",
      "       -0.05264026, -0.07541371, -0.08250707, -0.07504037, -0.10005383,\n",
      "       -0.03434684,  0.02986681, -0.12469395,  0.07765372, -0.06720033,\n",
      "       -0.06085364, -0.00970672, -0.06608033,  0.01260006,  0.00060959,\n",
      "       -0.01521341,  0.07205369, -0.01138672, -0.01876009,  0.02781347,\n",
      "        0.00562336,  0.12842731,  0.0334135 ,  0.02296011, -0.0593603 ,\n",
      "        0.02874681, -0.02949348,  0.02576013, -0.06944034, -0.02258678,\n",
      "       -0.06384031,  0.09781382,  0.02613346,  0.00124251, -0.06197364,\n",
      "       -0.00840004, -0.06944034,  0.04349355,  0.00532003,  0.04050687,\n",
      "        0.07877372,  0.05562694,  0.02986681, -0.0339735 , -0.02193344,\n",
      "        0.03136016, -0.07130702,  0.00315002, -0.02380012,  0.00933338,\n",
      "       -0.0477869 , -0.06421366,  0.00420002, -0.01148006,  0.02538679,\n",
      "        0.05525361,  0.01180673, -0.01059339,  0.00058625,  0.03322683,\n",
      "       -0.01941343, -0.1008005 , -0.02837347, -0.07392037, -0.05189359,\n",
      "       -0.01372007,  0.02062677,  0.04013353,  0.01661342,  0.0135334 ,\n",
      "        0.03733352,  0.05002692, -0.02949348,  0.03080015, -0.11872059,\n",
      "        0.08549376,  0.04760024, -0.00110834,  0.07504037,  0.03789352,\n",
      "        0.01521341,  0.02856014, -0.04312021,  0.00700003, -0.02669347,\n",
      "        0.10528053, -0.02482679,  0.04069354,  0.09408047,  0.01904009,\n",
      "        0.05637361, -0.201601  ,  0.05114692,  0.05525361,  0.07840039,\n",
      "        0.00872671, -0.02762681,  0.03677352, -0.04573356, -0.00548336,\n",
      "       -0.02034677, -0.03229349, -0.01913343,  0.06570699,  0.05861362],\n",
      "      dtype=float32), array([-1.79521472e-03,  3.10907513e-02,  2.17793081e-02, -1.57031957e-02,\n",
      "        1.49140907e-02,  7.29133338e-02,  3.44049931e-02, -9.78490636e-02,\n",
      "        4.79776040e-02,  3.83505188e-02, -3.47206369e-02,  6.06032908e-02,\n",
      "       -9.53239277e-02,  7.16507658e-02, -4.92401756e-02, -2.68295826e-03,\n",
      "       -8.39608088e-02,  7.54384696e-02, -4.95558158e-02,  8.14356729e-02,\n",
      "       -2.58826558e-02,  5.27122393e-02,  4.57681119e-02,  7.76479691e-02,\n",
      "        2.43044440e-02,  1.73603185e-02,  3.23533197e-03,  1.85439754e-02,\n",
      "       -5.30278794e-02, -2.14636661e-02,  8.23628739e-04,  2.11480241e-02,\n",
      "       -1.02899335e-01, -6.91256300e-02,  9.94272716e-03, -5.83937950e-02,\n",
      "        1.44406278e-02,  5.60264802e-03, -4.95558158e-02,  1.07318327e-01,\n",
      "        7.76479691e-02,  8.20669532e-02,  2.85656136e-02, -4.41899002e-02,\n",
      "       -4.35586162e-02, -6.02876507e-02, -6.43909946e-02,  6.39175344e-03,\n",
      "       -1.03530623e-01,  2.65139397e-02,  9.72177759e-02, -1.21522220e-02,\n",
      "       -3.20376791e-02, -6.12345748e-02, -4.89245309e-03, -1.61608770e-01,\n",
      "        1.79916024e-02, -7.35446215e-02,  2.35745218e-03, -5.05027436e-02,\n",
      "        1.87807083e-02, -7.89105371e-02, -2.11480241e-02,  2.50935499e-02,\n",
      "       -7.53595633e-03, -7.73323253e-02, -1.05424479e-01, -2.80921496e-02,\n",
      "        1.35094836e-01,  2.35153399e-02, -6.31284267e-02, -2.73030456e-02,\n",
      "        8.08043852e-02,  2.95125395e-02,  4.04416490e-03, -5.90250790e-02,\n",
      "       -4.73463200e-02,  2.30418760e-02, -8.08043852e-02,  4.71490435e-03,\n",
      "       -1.10474750e-01, -2.79343296e-02, -3.69301289e-02,  7.00725541e-02,\n",
      "       -4.65572160e-03,  8.08043852e-02,  1.72024965e-02,  1.01005487e-01,\n",
      "        1.63344815e-02,  8.58546644e-02,  1.20575301e-01,  1.76759604e-02,\n",
      "        2.77765077e-02, -3.86661617e-03,  1.04951011e-02, -9.34300721e-02,\n",
      "        2.87234355e-02,  6.50222823e-02, -1.07318331e-02, -2.57248338e-02,\n",
      "       -2.65139397e-02, -7.35446215e-02, -2.58826558e-02,  2.99860034e-02,\n",
      "        1.29413279e-02, -1.02268055e-01,  1.18365800e-02, -3.25111412e-02,\n",
      "        7.69377733e-03,  6.91256300e-02,  4.83327033e-03,  1.60188396e-02,\n",
      "       -4.86088879e-02,  1.73849767e-04,  8.26982409e-02,  5.24755055e-03,\n",
      "       -2.62377528e-03, -5.55530153e-02,  7.07038417e-02, -2.71452237e-02,\n",
      "        1.42670244e-01, -5.93407229e-02, -1.12999886e-01,  1.04793191e-01,\n",
      "       -9.15362239e-02, -4.51368280e-02,  1.16787590e-02, -3.99287306e-02,\n",
      "       -2.90390775e-02,  1.89385284e-02, -9.21675041e-02,  9.40613598e-02,\n",
      "        7.70166814e-02, -4.22960483e-02,  5.42904474e-02,  5.80781549e-02,\n",
      "       -1.64923016e-02,  5.93407229e-02, -1.94909014e-02,  6.34440705e-02,\n",
      "        5.30278794e-02, -2.77765077e-02, -2.31996980e-02,  3.92974466e-02,\n",
      "        1.08896540e-02, -1.12052960e-02, -5.83937950e-03, -5.01870997e-02,\n",
      "        2.95125395e-02, -1.08580895e-01, -3.07751093e-02, -1.12999886e-01,\n",
      "        1.98065452e-02, -1.64133906e-02, -6.88099861e-02,  4.34007961e-03,\n",
      "       -3.45628150e-02, -1.95698123e-02, -2.33575180e-02, -4.04021926e-02,\n",
      "        6.09189346e-02, -2.17793081e-02, -8.33295286e-02, -1.12842070e-02,\n",
      "        1.34147909e-02, -1.57031957e-02, -7.61486683e-03, -6.43909946e-02,\n",
      "        1.13631174e-01, -9.72177759e-02, -3.88239846e-02, -1.57031957e-02,\n",
      "       -2.99860034e-02, -2.55670138e-02,  7.70166814e-02, -6.24971427e-02,\n",
      "        8.33295286e-02,  3.72457728e-02, -3.97709087e-02,  4.32035187e-03,\n",
      "       -9.46926400e-02, -1.12999886e-01, -8.20669532e-02, -3.70879509e-02,\n",
      "        5.79992449e-03, -1.50876939e-01, -1.08107431e-02,  5.77625111e-02,\n",
      "       -4.32429723e-02, -5.24755055e-03, -4.32429723e-02, -5.23965955e-02,\n",
      "       -1.21206582e-01,  1.82283334e-02, -7.03881979e-02,  6.06032908e-02,\n",
      "        9.62708518e-03,  2.65139397e-02,  4.67150360e-02, -4.86088879e-02,\n",
      "       -6.43909946e-02,  3.59832048e-02,  3.81927006e-02, -6.62848493e-03,\n",
      "       -1.47720516e-01, -9.53239277e-02,  1.22311329e-02, -3.83505188e-02,\n",
      "       -4.29273322e-02, -8.39608088e-02,  5.64999431e-02,  7.03881979e-02,\n",
      "        5.93407229e-02,  9.91116315e-02, -1.74392276e-02,  1.59714922e-01,\n",
      "        8.71172324e-02,  4.00470989e-03,  6.86521642e-03, -1.36515228e-02,\n",
      "       -4.82932478e-02, -7.22031388e-03, -4.89245318e-02,  4.41899002e-02,\n",
      "        2.39888020e-02, -2.12072069e-03,  2.61982977e-02, -4.67150360e-02,\n",
      "       -7.25976899e-02, -1.31780598e-02, -7.13351220e-02, -2.74608657e-02,\n",
      "       -3.01438253e-02,  5.01870997e-02,  7.48071894e-02,  6.23393245e-03,\n",
      "       -2.36731600e-02,  2.19371282e-02,  7.38602579e-02, -8.52233768e-02,\n",
      "       -1.16156310e-01,  2.14044820e-03, -6.15502186e-02,  3.55097391e-02,\n",
      "        6.78630620e-02, -2.19371282e-02,  3.83505188e-02,  5.77625111e-02,\n",
      "        5.61842993e-02, -7.07038417e-02, -6.39175344e-03,  2.36731600e-02,\n",
      "        1.37304328e-02,  8.33295286e-02, -1.90174393e-02,  3.80743342e-03,\n",
      "        4.22960483e-02,  1.03530623e-01, -8.90110806e-02,  2.28840560e-02,\n",
      "        3.85083407e-02,  3.43260821e-03,  1.64923016e-02,  6.59692064e-02,\n",
      "        2.98281815e-02,  7.16507658e-02, -3.77192348e-02, -5.39748073e-02,\n",
      "       -8.45920965e-02, -1.86228864e-02, -5.17653115e-02,  8.39608088e-02,\n",
      "        2.05167383e-02, -3.03016454e-02,  3.23533197e-03,  5.05027408e-03,\n",
      "       -1.48351807e-02,  6.78630592e-03, -9.97429192e-02, -1.28624169e-02,\n",
      "       -3.55097391e-02, -3.68906744e-03,  7.07038417e-02,  2.91968975e-02,\n",
      "        5.36591634e-02,  5.33435233e-02,  3.85083407e-02, -4.29273322e-02,\n",
      "        1.23100439e-02, -8.36451631e-03, -2.99860034e-02,  1.85597584e-01,\n",
      "       -2.09902022e-02,  1.28229614e-04,  3.74825043e-03, -6.50222823e-02,\n",
      "        4.77408757e-03,  1.68868545e-02,  1.16787590e-02, -1.41249858e-02],\n",
      "      dtype=float32), array([-0.02046456, -0.02115659, -0.04092911,  0.06683111, -0.00652493,\n",
      "        0.04864039,  0.10598069, -0.01601574,  0.04508134,  0.1107261 ,\n",
      "       -0.16608915,  0.03875414,  0.06683111,  0.12417141, -0.17162545,\n",
      "        0.00472069, -0.01097375,  0.08502182,  0.07909007, -0.04686087,\n",
      "       -0.06366751, -0.09332629, -0.0510131 , -0.13919853,  0.0227384 ,\n",
      "        0.01482939,  0.02886788,  0.0525949 ,  0.0322292 , -0.00437467,\n",
      "       -0.01393962, -0.0549676 , -0.06722656, -0.00682152, -0.00565988,\n",
      "       -0.03618371,  0.01947593, -0.06010845, -0.0235293 ,  0.1083534 ,\n",
      "       -0.00519029,  0.0282747 ,  0.0502222 ,  0.01562029, -0.00140261,\n",
      "       -0.0346019 , -0.03697461,  0.04527907,  0.0510131 , -0.00025334,\n",
      "        0.01131977, -0.03321783, -0.01977252, -0.02847243, -0.04883812,\n",
      "       -0.03440418, -0.06801746, -0.01562029,  0.10993519,  0.02965878,\n",
      "        0.05615395,  0.01917934, -0.01512598,  0.00598119,  0.04013821,\n",
      "       -0.08937178, -0.02689062, -0.10439889,  0.06485385,  0.04745404,\n",
      "       -0.0549676 , -0.119426  ,  0.09886259,  0.01552143, -0.01492825,\n",
      "        0.01018285,  0.02026683, -0.05378125,  0.03163603,  0.0573403 ,\n",
      "       -0.02550655,  0.00605533,  0.01354417,  0.07711282, -0.01997024,\n",
      "       -0.04508134, -0.00360848, -0.09846713, -0.09134903,  0.05773575,\n",
      "        0.1138897 , -0.01067716,  0.00310181, -0.0274838 ,  0.0565494 ,\n",
      "       -0.03321783, -0.07434466,  0.00271872,  0.05140854, -0.03044968,\n",
      "        0.02402361, -0.04864039, -0.06841291,  0.07909007,  0.02046456,\n",
      "       -0.04270864, -0.02570427,  0.01601574, -0.00098863, -0.01838844,\n",
      "        0.02006911, -0.03479963,  0.0266929 , -0.00306474,  0.02451792,\n",
      "        0.06406296, -0.0314383 , -0.07869462, -0.03835868, -0.02174977,\n",
      "        0.05536305, -0.02570427, -0.09965349, -0.07315832, -0.01660891,\n",
      "       -0.04112684,  0.0112209 , -0.1107261 , -0.04725632,  0.07750827,\n",
      "       -0.00132229, -0.05457215, -0.0525949 ,  0.05041992,  0.03262465,\n",
      "       -0.01072659,  0.04923357, -0.00622834, -0.02076114, -0.07909007,\n",
      "        0.08304457, -0.02501223, -0.10360799, -0.0628766 , -0.00776071,\n",
      "       -0.1083534 , -0.00304002, -0.03183375,  0.00085887,  0.05852665,\n",
      "        0.11705331,  0.00186603, -0.03895186, -0.0041028 ,  0.00221205,\n",
      "       -0.00558574, -0.0056846 , -0.06445841, -0.02323271,  0.02550655,\n",
      "        0.05219945,  0.09411719, -0.01443394,  0.04705859, -0.05041992,\n",
      "       -0.00815616,  0.04448817, -0.03717233, -0.00447353, -0.01206124,\n",
      "       -0.08937178, -0.04686087, -0.01067716, -0.1130988 , -0.07434466,\n",
      "       -0.00998512, -0.00108749,  0.07948552, -0.08304457, -0.02867015,\n",
      "       -0.15501654, -0.02214522,  0.00156944,  0.0573403 ,  0.00711811,\n",
      "       -0.04033593,  0.0549676 ,  0.01720209,  0.00761242,  0.0628766 ,\n",
      "        0.02689062, -0.01660891, -0.05536305, -0.05852665, -0.01220953,\n",
      "        0.07315832, -0.04231319,  0.02184863, -0.03361328, -0.06999471,\n",
      "       -0.1083534 ,  0.03262465,  0.13919853,  0.0161146 , -0.1186351 ,\n",
      "       -0.0290656 , -0.07671737, -0.04152229,  0.06485385,  0.01082545,\n",
      "       -0.06129481,  0.00939195,  0.01211067,  0.11626241, -0.0605039 ,\n",
      "        0.06366751,  0.03519508, -0.04488362,  0.02728608, -0.1154715 ,\n",
      "        0.01967365,  0.08660363,  0.01947593,  0.00355905, -0.07513557,\n",
      "       -0.06208571, -0.09846713, -0.08185823,  0.10518979,  0.00889763,\n",
      "       -0.04172001, -0.01275327,  0.01206124, -0.00250864,  0.09767624,\n",
      "       -0.02787925,  0.1123079 , -0.09372173, -0.04982674,  0.07039016,\n",
      "        0.06801746, -0.04646542, -0.03242693, -0.01809185,  0.03638143,\n",
      "        0.04784949, -0.01186351,  0.03262465, -0.09965349,  0.02441906,\n",
      "        0.03756778,  0.05002447, -0.00701924, -0.00297824,  0.01621346,\n",
      "        0.01828958,  0.06327206,  0.00315124, -0.16450734, -0.06722656,\n",
      "        0.0290656 , -0.00304002,  0.01344531,  0.06841291, -0.03895186,\n",
      "        0.03855641, -0.01443394,  0.059713  , -0.09767624,  0.0510131 ,\n",
      "        0.03717233,  0.0080573 ,  0.01977252, -0.00402865,  0.10439889,\n",
      "        0.0510131 , -0.05931755,  0.02214522, -0.08027642, -0.03776551,\n",
      "        0.03638143, -0.00543744, -0.1067716 ,  0.01759754,  0.00711811,\n",
      "       -0.0502222 ,  0.04508134,  0.0557585 , -0.09569898, -0.07157651,\n",
      "       -0.0056846 ,  0.10044439, -0.0581312 , -0.01344531,  0.00210083,\n",
      "       -0.03974276,  0.09332629, -0.03796323, -0.0039545 , -0.08660363],\n",
      "      dtype=float32), array([-0.06247045, -0.03513963, -0.09175348, -0.09253436, -0.00317233,\n",
      "       -0.08121158, -0.00946818, -0.03689661,  0.08941083,  0.02254793,\n",
      "       -0.13196883,  0.00507572, -0.00395321, -0.02469535, -0.14992908,\n",
      "        0.02332881,  0.01864352,  0.03787271,  0.03728705, -0.03045435,\n",
      "        0.00854088,  0.04138667,  0.01932679, -0.06325133,  0.03455397,\n",
      "       -0.01005384, -0.06442265,  0.09995272,  0.04704806,  0.05349032,\n",
      "       -0.02479296, -0.01737459,  0.00800403, -0.00412403, -0.06168957,\n",
      "       -0.0028673 ,  0.0174722 , -0.05192856,  0.06988882,  0.00663749,\n",
      "        0.00736956, -0.06208001,  0.07535498,  0.05700428, -0.0503668 ,\n",
      "        0.0194244 ,  0.11557033,  0.1007336 ,  0.01825308,  0.00878491,\n",
      "        0.14368203, -0.02381686, -0.07886894, -0.01952202,  0.09097259,\n",
      "        0.02928302,  0.0581756 ,  0.05934693,  0.11557033, -0.04080101,\n",
      "       -0.08316378, -0.02254793, -0.0474385 ,  0.04568152, -0.03865359,\n",
      "       -0.02674516, -0.00424604, -0.01561761,  0.05466164,  0.03045435,\n",
      "       -0.04216756,  0.03884881,  0.09331524,  0.00108591, -0.0087361 ,\n",
      "        0.00169598,  0.04665762,  0.04978114,  0.00356277, -0.03260177,\n",
      "        0.0048073 ,  0.00810164,  0.02098617,  0.03513963, -0.08472555,\n",
      "        0.04880504, -0.03962969,  0.14212027,  0.05973737,  0.02176705,\n",
      "        0.12337914, -0.03338265,  0.00863849,  0.02869736,  0.02674516,\n",
      "       -0.01220126, -0.03377309, -0.06871749,  0.11244681, -0.00244025,\n",
      "       -0.01688654,  0.01024906, -0.08667775,  0.07418366, -0.00446566,\n",
      "       -0.10307624, -0.08784907,  0.07340278, -0.01298214, -0.03123523,\n",
      "       -0.01717937,  0.00761359, -0.05973737,  0.03221133,  0.08784907,\n",
      "       -0.00990742, -0.04958592, -0.08823951,  0.14055851, -0.02469535,\n",
      "        0.02986868,  0.01395824, -0.05114768, -0.06520353,  0.04509586,\n",
      "       -0.03045435, -0.11947474, -0.03279699, -0.03572529, -0.01347019,\n",
      "        0.04080101,  0.09058215,  0.06715573,  0.00746717, -0.0290878 ,\n",
      "       -0.01234767,  0.07145058,  0.0184483 , -0.04529108,  0.05153812,\n",
      "       -0.04665762, -0.0435341 , -0.0145439 ,  0.02635472,  0.03689661,\n",
      "       -0.08902039,  0.15070996,  0.00163497, -0.07808806, -0.04900026,\n",
      "        0.00118352, -0.03611573, -0.00236704,  0.05661384, -0.09058215,\n",
      "        0.02967346, -0.07769762, -0.10776152, -0.02020529, -0.04314366,\n",
      "       -0.06520353,  0.0029405 ,  0.01630088, -0.05934693,  0.03865359,\n",
      "        0.07925938,  0.00213522, -0.02059573,  0.09526744, -0.06325133,\n",
      "       -0.12025562, -0.04197234,  0.04529108, -0.03650617, -0.04392454,\n",
      "       -0.052319  ,  0.03533485, -0.06871749,  0.01883874, -0.03650617,\n",
      "       -0.05349032, -0.06676529,  0.01059069, -0.01093233,  0.06403221,\n",
      "       -0.09721964,  0.01288453,  0.05192856,  0.03650617,  0.1210365 ,\n",
      "       -0.09214392, -0.01717937, -0.09409612, -0.08823951, -0.09214392,\n",
      "        0.00101881, -0.0581756 , -0.0454863 ,  0.02850214, -0.05349032,\n",
      "       -0.156957  , -0.05700428, -0.00541736,  0.0174722 , -0.1007336 ,\n",
      "        0.00449006,  0.12806442,  0.00497811, -0.02654994, -0.04763372,\n",
      "       -0.02674516,  0.06364177, -0.06325133,  0.094877  , -0.07184102,\n",
      "        0.05075724,  0.0823829 ,  0.03728705, -0.06871749,  0.06715573,\n",
      "       -0.03748227,  0.0804307 , -0.0765263 ,  0.05505208, -0.07145058,\n",
      "       -0.0067839 , -0.0281117 , -0.12416002,  0.00326994,  0.00219623,\n",
      "       -0.01142038, -0.0464624 ,  0.0562234 , -0.04021535,  0.03084479,\n",
      "       -0.0493907 ,  0.05309988,  0.03865359, -0.0581756 , -0.04294844,\n",
      "       -0.00441686,  0.00592981, -0.07340278,  0.06832705,  0.09253436,\n",
      "        0.00829686, -0.01112755, -0.01659371,  0.05934693, -0.05388076,\n",
      "        0.00380679, -0.02245032, -0.00800403,  0.03865359, -0.04529108,\n",
      "       -0.03045435,  0.02489057, -0.05349032,  0.01054189, -0.03064957,\n",
      "       -0.10932329, -0.14758644,  0.00280629,  0.04099623,  0.00242805,\n",
      "        0.06637485, -0.0581756 , -0.09565788, -0.03513963,  0.0009944 ,\n",
      "       -0.02752604,  0.07691674, -0.02059573, -0.03572529, -0.02313359,\n",
      "        0.10385712,  0.03513963,  0.06481309, -0.04294844, -0.04704806,\n",
      "       -0.02537862,  0.03494441,  0.09565788,  0.00298931,  0.0435341 ,\n",
      "        0.03143045, -0.01512956,  0.01708176, -0.0454863 , -0.0251834 ,\n",
      "        0.01532478,  0.03221133, -0.02635472, -0.03494441,  0.02362164,\n",
      "        0.09253436, -0.0203029 ,  0.05661384,  0.01893635, -0.00541736],\n",
      "      dtype=float32), array([-6.31949008e-02, -1.93534382e-02,  2.84706196e-03,  8.79462361e-02,\n",
      "       -1.69836301e-02, -4.81861122e-02,  8.55764281e-03, -1.06904708e-01,\n",
      "       -4.58163060e-02, -9.54506360e-03, -4.89760488e-02, -8.84728655e-02,\n",
      "        1.77735668e-02, -5.58221638e-02,  3.21240760e-02,  4.71328646e-02,\n",
      "       -2.98859235e-02,  8.89994875e-02,  1.40213687e-02, -6.68154424e-03,\n",
      "        4.01139521e-04, -4.31831852e-02,  7.30691059e-03, -4.87127379e-02,\n",
      "       -1.11644328e-01,  5.26624173e-02, -9.42657292e-02,  2.79110819e-02,\n",
      "       -2.30398085e-02, -4.00234386e-02, -2.22498719e-02, -7.83353485e-03,\n",
      "       -8.16267505e-02,  5.36498381e-03, -8.79462361e-02,  4.60796170e-02,\n",
      "       -1.22703433e-01, -1.18490448e-03,  1.15330696e-01, -5.76653481e-02,\n",
      "       -1.85141317e-03,  3.33089791e-02,  1.33762538e-01,  9.21592340e-02,\n",
      "        4.60796170e-02, -4.21299338e-02, -2.54096165e-02, -1.54695855e-02,\n",
      "       -5.26624173e-02,  1.73785985e-02, -4.02867496e-02,  4.26565595e-02,\n",
      "        6.84611425e-02,  5.76653481e-02, -7.68871307e-02, -7.47806355e-02,\n",
      "       -6.05617836e-02, -8.00468773e-02, -1.93369819e-03, -9.37391073e-02,\n",
      "       -1.85964163e-03,  2.26448402e-02, -1.71152856e-02, -5.10825478e-02,\n",
      "       -2.76477691e-02, -4.42364328e-02,  1.09541943e-04, -9.01843887e-03,\n",
      "       -6.79345205e-02,  2.34347768e-02, -6.50380850e-02,  7.10942671e-02,\n",
      "       -3.37039493e-02,  1.21781845e-02, -9.37391073e-02, -4.97659855e-02,\n",
      "        3.94968141e-04,  4.79228012e-02, -7.68871307e-02,  6.58280216e-03,\n",
      "       -6.84611425e-02,  5.81919737e-02, -4.95026745e-02, -6.29315898e-02,\n",
      "       -4.83424548e-04,  3.42305712e-02, -3.73903178e-02, -3.50205079e-02,\n",
      "        2.33031195e-02,  4.97824454e-04, -7.27399671e-03,  4.79228012e-02,\n",
      "       -2.94909552e-02, -2.04066876e-02, -6.48406055e-03,  5.52955382e-02,\n",
      "       -1.59303825e-02, -3.05442028e-02,  1.45348281e-01,  6.74078986e-02,\n",
      "       -7.53072575e-02,  3.76536287e-02, -2.08016559e-02,  1.54037578e-02,\n",
      "       -3.35722938e-02,  8.37332457e-02, -6.00351579e-02,  9.58456025e-02,\n",
      "        6.45114630e-02, -7.80062098e-03, -4.29198705e-02, -4.23932485e-02,\n",
      "       -7.96519127e-03,  1.01375161e-02,  4.47630547e-02,  1.45479934e-02,\n",
      "       -5.87185957e-02, -1.16910569e-01,  8.37332457e-02,  5.66121005e-02,\n",
      "       -1.71152856e-02,  1.72469430e-02, -6.00351579e-02,  3.42305712e-02,\n",
      "       -3.00175790e-02, -2.38297451e-02, -1.96167510e-02,  2.35335180e-03,\n",
      "        7.42540136e-02, -2.31714640e-02, -6.53013960e-02,  4.42364328e-02,\n",
      "        2.73844581e-02,  7.37273842e-02,  2.36980878e-02, -6.42481521e-02,\n",
      "       -1.28496304e-01, -3.92335020e-02,  6.68812692e-02, -3.92335020e-02,\n",
      "        7.95202553e-02, -1.18490443e-01,  1.02691716e-02,  1.99129782e-03,\n",
      "       -8.00468773e-02, -7.74137527e-02,  1.24809936e-01,  4.44997437e-02,\n",
      "        8.00468773e-02, -5.21357954e-02,  5.58221638e-02, -1.25863180e-01,\n",
      "        1.98800638e-02, -5.87185957e-02, -5.76653481e-02, -1.45348281e-01,\n",
      "       -2.97542661e-02,  1.03218339e-01, -1.94850955e-02,  4.55529913e-02,\n",
      "       -1.27048083e-02, -1.01375161e-02, -7.42540136e-02, -2.18549035e-02,\n",
      "       -2.92276423e-02, -1.41135275e-01,  1.88268144e-02, -1.17832161e-02,\n",
      "       -2.54096165e-02,  1.04271591e-01, -1.65359989e-01, -4.93710162e-03,\n",
      "       -1.04008280e-02, -4.58163060e-02,  2.71211453e-02, -1.40082031e-01,\n",
      "        1.16910569e-01, -2.10649669e-01,  8.16267505e-02, -1.42188534e-01,\n",
      "        5.13458587e-02,  1.11907637e-02, -4.55529913e-02, -3.60737555e-02,\n",
      "        3.33089791e-02,  7.95202553e-02,  4.34464961e-02,  6.79345205e-02,\n",
      "        3.73903178e-02, -1.94850955e-02, -1.49429617e-02,  6.55647144e-02,\n",
      "       -9.42657292e-02, -2.94909552e-02,  8.16267505e-02,  3.44938859e-02,\n",
      "        2.31714640e-02, -6.37215301e-02,  2.98859235e-02, -3.73903178e-02,\n",
      "       -7.10942671e-02, -1.60620380e-02, -8.49181507e-03, -1.10064454e-01,\n",
      "       -1.77735668e-02,  1.54695855e-02, -5.71387261e-02, -8.79462361e-02,\n",
      "       -2.14599352e-02,  4.81861122e-02, -6.66179582e-02,  5.66121005e-02,\n",
      "       -1.15857318e-01, -1.89584717e-02, -8.89994875e-02, -1.55518705e-03,\n",
      "        4.66062389e-02,  4.39731181e-02, -2.90959869e-02,  2.54096165e-02,\n",
      "       -5.37156686e-02, -5.71387261e-02,  1.98800638e-02,  4.92393635e-02,\n",
      "       -3.97601277e-02,  2.47513372e-02, -2.86351913e-03, -3.44938859e-02,\n",
      "        1.64570054e-04, -1.21123567e-02, -3.47571969e-02, -7.10942671e-02,\n",
      "        5.08192331e-02, -5.79286590e-02, -4.18666229e-02,  4.68695536e-02,\n",
      "        1.76912814e-03,  2.94580404e-03, -1.73785985e-02,  7.95202553e-02,\n",
      "        8.42598677e-02,  3.25190425e-02,  1.07299676e-02,  2.17232481e-02,\n",
      "        2.55412739e-02,  3.00175790e-02, -8.05734992e-02,  2.94909552e-02,\n",
      "       -5.52955382e-02, -3.25190425e-02,  8.05734992e-02, -1.94850955e-02,\n",
      "        8.47864971e-02,  3.50205079e-02,  9.41340718e-03, -2.61995532e-02,\n",
      "       -6.08250946e-02, -1.90078421e-03,  8.26799944e-02, -4.79228012e-02,\n",
      "        2.81743947e-02,  2.00117193e-02,  8.11001286e-02, -1.16910569e-01,\n",
      "        2.46196818e-02,  1.11249359e-02, -3.12024839e-02,  4.77253180e-03,\n",
      "        5.13458587e-02, -2.89643295e-02, -3.23873870e-02, -4.63429280e-02,\n",
      "       -2.10649669e-02,  7.07651256e-03,  1.02691716e-02, -5.92452213e-02,\n",
      "       -2.97542661e-02, -1.63253490e-02, -1.19017065e-01,  5.92452213e-02,\n",
      "        9.01843887e-03,  1.53379291e-02, -9.01843887e-03,  6.84611425e-02,\n",
      "       -2.52779610e-02, -1.29022924e-02,  3.68636921e-02,  2.98859235e-02,\n",
      "       -3.27823572e-02,  3.71270068e-02, -8.95261113e-03,  8.32066238e-02,\n",
      "        9.21592303e-03, -4.93710162e-03, -2.04066876e-02,  1.77735668e-02,\n",
      "       -4.05500643e-02, -2.56729294e-02, -3.13341394e-02, -3.02808918e-02],\n",
      "      dtype=float32)]\n",
      "(7, 300)\n",
      "v is  [-0.29032     0.02928552 -0.07696339 -0.14208865 -0.16402604 -0.0704347\n",
      "  0.17807135 -0.42168736  0.16653195  0.15943965 -0.15414838 -0.01130124\n",
      "  0.29893294  0.10256477 -0.45089966  0.17380527  0.02242205  0.26330227\n",
      "  0.04528475 -0.24931626  0.24299495  0.11188289  0.03638319 -0.13688755\n",
      "  0.0365299   0.20608428 -0.17891252  0.2862622  -0.00974478  0.0040856\n",
      " -0.09872664 -0.06341924 -0.3208402   0.08301943 -0.2736523  -0.06649792\n",
      "  0.00733796 -0.04894931  0.28859302  0.14543697 -0.05763218  0.04138427\n",
      "  0.29359326  0.1431531  -0.13902798 -0.40332806 -0.21163738  0.12594251\n",
      " -0.2549896   0.11933014  0.09517828  0.17316566  0.01961257 -0.3233224\n",
      "  0.15088269 -0.23411721 -0.11536965 -0.4297819   0.20703405 -0.1334401\n",
      " -0.2626541  -0.06188864 -0.09536327  0.14007589  0.03156196 -0.33221555\n",
      " -0.14843293 -0.0546352   0.0830121   0.22643833 -0.55077547 -0.02542859\n",
      "  0.16683748 -0.16376734 -0.06691692 -0.16868228  0.16758153  0.27576968\n",
      "  0.04003967  0.20858029 -0.03968371 -0.04635115  0.23905206 -0.0419248\n",
      "  0.22833014  0.26494282 -0.12862445 -0.07371632  0.27093342  0.15734546\n",
      "  0.7245329   0.01922797 -0.07119484 -0.1965866   0.24192742 -0.3862708\n",
      " -0.25957355  0.04122955  0.2294882  -0.10811948 -0.21317157  0.0159465\n",
      " -0.19399822  0.221694   -0.01778397 -0.15243702 -0.13900495  0.04190104\n",
      "  0.09198323  0.00704626 -0.06266706  0.00706323 -0.03099515  0.03930063\n",
      "  0.3110389   0.2037489  -0.13998693 -0.22691783  0.2815882  -0.07695918\n",
      "  0.17094783  0.08328375 -0.4592418   0.09933656 -0.09028673 -0.0779879\n",
      " -0.10450888 -0.23317303  0.09261322  0.27376834 -0.18365145  0.01744832\n",
      "  0.12885158  0.37097526  0.29902086 -0.01857914 -0.07667625  0.18635824\n",
      " -0.05112286  0.24958307  0.35680243 -0.18840265 -0.30369884  0.14455347\n",
      " -0.00354575 -0.16122624  0.30556875 -0.20362556  0.17128853 -0.3284602\n",
      "  0.11170845 -0.27660823 -0.20181167  0.01642038 -0.19447847 -0.04053129\n",
      " -0.14372042 -0.23793793 -0.20696525 -0.00348468  0.19319662  0.07476087\n",
      "  0.00520461 -0.21380588 -0.04116192 -0.31959575  0.23369469 -0.13437681\n",
      "  0.16189563 -0.2174024  -0.4466815  -0.21284194 -0.00397699 -0.2707956\n",
      "  0.20605291 -0.16752048  0.34272844 -0.23553537 -0.02693943  0.0702536\n",
      " -0.59089315 -0.3664245  -0.15561947 -0.23793603  0.07149897 -0.20680472\n",
      " -0.01034654  0.37434334  0.17053261  0.07994503  0.03683682  0.04256292\n",
      " -0.10873926 -0.2283915  -0.4369084   0.03624913 -0.21976732  0.03155925\n",
      "  0.14531039 -0.40332043 -0.50101346  0.12291226  0.17797306  0.08795784\n",
      " -0.40666053 -0.1454664   0.08865437 -0.41723034  0.17482579 -0.18287477\n",
      "  0.08163642  0.48347023 -0.37210757  0.28002203 -0.3776944   0.32435474\n",
      "  0.614929   -0.00956736  0.02256382 -0.25817642 -0.10651504 -0.01427399\n",
      " -0.15783861  0.05841016 -0.09525553 -0.110623    0.06825592 -0.42335212\n",
      "  0.15784647 -0.03486129 -0.221967   -0.15240854  0.0606282   0.08138626\n",
      "  0.16196206  0.13201493 -0.11347724 -0.02413614 -0.18969685  0.03292672\n",
      "  0.09395296 -0.04201473 -0.10139862  0.04626676  0.4519677  -0.0944615\n",
      " -0.0950036   0.19159088  0.11359344 -0.27178913  0.10791619  0.12172093\n",
      " -0.02609225  0.09357867  0.03697055  0.0208323   0.05628888  0.05510846\n",
      " -0.3622373  -0.22877054 -0.01678172 -0.1413516   0.14823246  0.07695357\n",
      "  0.34555402  0.26002282 -0.03903087 -0.10282479 -0.37343946 -0.11479457\n",
      "  0.08578998  0.45600513  0.11809756  0.05727781  0.21193178  0.14268366\n",
      " -0.12654656 -0.02859468 -0.34921962  0.07257213  0.1642225  -0.20100792\n",
      "  0.1679286   0.31429508  0.15724573  0.15468648 -0.21387735  0.1325306\n",
      " -0.24410035  0.01793905 -0.35848603  0.4326332  -0.18080834 -0.17633982\n",
      " -0.15718915  0.01031639  0.0838502   0.22146556  0.10718035 -0.09521136]\n"
     ]
    },
    {
     "name": "stdout",
     "output_type": "stream",
     "text": [
      "[-0.07935596  0.00800489 -0.02103714 -0.03883845 -0.04483481 -0.01925259\n",
      "  0.04867395 -0.11526386  0.04551978  0.04358117 -0.04213486 -0.00308908\n",
      "  0.08171021  0.02803501 -0.12324873  0.04750786  0.00612883  0.07197093\n",
      "  0.01237812 -0.06814801  0.06642014  0.03058202  0.00994497 -0.03741679\n",
      "  0.00998507  0.05633099 -0.04890388  0.07824679 -0.00266364  0.00111676\n",
      " -0.0269859  -0.01733499 -0.08769833  0.0226925  -0.07480001 -0.01817651\n",
      "  0.00200575 -0.01337979  0.0788839   0.03975368 -0.01575316  0.01131196\n",
      "  0.08025067  0.03912941 -0.03800185 -0.11024553 -0.05784887  0.03442508\n",
      " -0.06969875  0.03261765  0.02601599  0.04733303  0.00536089 -0.08837681\n",
      "  0.04124222 -0.06399351 -0.03153509 -0.11747642  0.05659061 -0.03647447\n",
      " -0.07179376 -0.01691661 -0.02606656  0.03828829  0.00862713 -0.09080766\n",
      " -0.04057259 -0.01493397  0.02269049  0.06189456 -0.15054874 -0.00695064\n",
      "  0.04560329 -0.0447641  -0.01829104 -0.04610755  0.04580667  0.07537878\n",
      "  0.01094443  0.05701325 -0.01084713 -0.01266961  0.0653424  -0.01145971\n",
      "  0.06241167  0.07241937 -0.03515816 -0.02014959  0.07405683  0.04300874\n",
      "  0.19804353  0.00525577 -0.01946037 -0.0537349   0.06612834 -0.1055831\n",
      " -0.07095173  0.01126967  0.06272821 -0.02955334 -0.05826823  0.00435881\n",
      " -0.0530274   0.06059775 -0.00486106 -0.04166707 -0.03799555  0.01145322\n",
      "  0.02514266  0.00192602 -0.01712939  0.00193066 -0.0084722   0.01074242\n",
      "  0.08501925  0.05569264 -0.03826397 -0.06202563  0.07696921 -0.02103599\n",
      "  0.04672681  0.02276475 -0.12552898  0.02715262 -0.02467894 -0.02131718\n",
      " -0.02856641 -0.06373542  0.02531486  0.07483172 -0.05019921  0.00476932\n",
      "  0.03522024  0.10140223  0.08173424 -0.00507842 -0.02095865  0.05093909\n",
      " -0.0139739   0.06822094  0.09752823 -0.05149791 -0.08301292  0.03951219\n",
      " -0.00096919 -0.04406952  0.08352404 -0.05565893  0.04681994 -0.08978117\n",
      "  0.03053434 -0.07560799 -0.05516312  0.00448834 -0.05315867 -0.01107881\n",
      " -0.03928448 -0.06503785 -0.0565718  -0.0009525   0.05280829  0.02043511\n",
      "  0.00142263 -0.05844161 -0.01125118 -0.08735818  0.06387801 -0.0367305\n",
      "  0.04425249 -0.05942468 -0.12209574 -0.05817813 -0.00108707 -0.07401916\n",
      "  0.05632242 -0.04578998  0.09368125 -0.06438114 -0.00736361  0.01920309\n",
      " -0.16151449 -0.10015833 -0.04253696 -0.06503734  0.0195435  -0.05652792\n",
      " -0.00282812  0.10232285  0.04661332  0.02185214  0.01006896  0.01163413\n",
      " -0.02972275 -0.06242844 -0.11942437  0.00990832 -0.06007111  0.00862639\n",
      "  0.03971908 -0.11024345 -0.13694681  0.03359679  0.04864708  0.02404236\n",
      " -0.11115643 -0.03976173  0.02423275 -0.11404558  0.04778681 -0.04998691\n",
      "  0.02231447  0.13215156 -0.10171174  0.07654111 -0.10323884  0.088659\n",
      "  0.16808446 -0.00261514  0.00616759 -0.07056984 -0.02911478 -0.00390165\n",
      " -0.04314354  0.01596581 -0.02603711 -0.03023765  0.01865705 -0.1157189\n",
      "  0.04314569 -0.00952897 -0.06067237 -0.04165929  0.01657209  0.02224609\n",
      "  0.04427065  0.03608491 -0.03101783 -0.00659736 -0.05185166  0.00900018\n",
      "  0.02568107 -0.01148429 -0.02771626  0.01264654  0.12354066 -0.02582007\n",
      " -0.02596825  0.05236937  0.03104959 -0.07429073  0.02949777  0.03327115\n",
      " -0.00713204  0.02557876  0.01010552  0.00569429  0.01538598  0.01506332\n",
      " -0.0990138  -0.06253204 -0.00458711 -0.03863699  0.0405178   0.02103446\n",
      "  0.0944536   0.07107453 -0.01066868 -0.02810609 -0.10207579 -0.0313779\n",
      "  0.0234498   0.12464426  0.03228074  0.01565629  0.05792935  0.03900109\n",
      " -0.03459018 -0.00781606 -0.09545555  0.01983684  0.04488851 -0.05494342\n",
      "  0.04590154  0.08590929  0.04298148  0.04228194 -0.05846115  0.03622586\n",
      " -0.06672229  0.00490345 -0.09798843  0.11825578 -0.04942208 -0.04820066\n",
      " -0.04296602  0.00281988  0.02291958  0.06053531  0.02929663 -0.02602503]\n"
     ]
    }
   ],
   "source": [
    "words = str(s).lower()\n",
    "words = word_tokenize(words)\n",
    "print('After tokenization',words)\n",
    "words = [w for w in words if not w in stop_words]\n",
    "words = [w for w in words if w.isalpha()]\n",
    "M = []\n",
    "for w in words:\n",
    "    try:\n",
    "        M.append(model[w])\n",
    "    except:\n",
    "        continue\n",
    "print('M is',M)\n",
    "M = np.array(M)\n",
    "print(M.shape)\n",
    "v = M.sum(axis=0)\n",
    "print('v is ',v)\n",
    "print(v / np.sqrt((v ** 2).sum()))"
   ]
  },
  {
   "cell_type": "code",
   "execution_count": 81,
   "metadata": {},
   "outputs": [],
   "source": [
    "question1 = 'What would a Trump presidency mean for current international master’s students on an F1 visa?'\n",
    "question2 = 'How will a Trump presidency affect the students presently in US or planning to study in US?'"
   ]
  },
  {
   "cell_type": "code",
   "execution_count": 85,
   "metadata": {},
   "outputs": [],
   "source": [
    "a = {'question1': question1, 'question2': question2}\n",
    "testdf = pd.DataFrame(a,columns = ['question1','question2'],index=[0])"
   ]
  },
  {
   "cell_type": "code",
   "execution_count": 86,
   "metadata": {},
   "outputs": [
    {
     "data": {
      "text/html": [
       "<div>\n",
       "<style scoped>\n",
       "    .dataframe tbody tr th:only-of-type {\n",
       "        vertical-align: middle;\n",
       "    }\n",
       "\n",
       "    .dataframe tbody tr th {\n",
       "        vertical-align: top;\n",
       "    }\n",
       "\n",
       "    .dataframe thead th {\n",
       "        text-align: right;\n",
       "    }\n",
       "</style>\n",
       "<table border=\"1\" class=\"dataframe\">\n",
       "  <thead>\n",
       "    <tr style=\"text-align: right;\">\n",
       "      <th></th>\n",
       "      <th>question1</th>\n",
       "      <th>question2</th>\n",
       "    </tr>\n",
       "  </thead>\n",
       "  <tbody>\n",
       "    <tr>\n",
       "      <th>0</th>\n",
       "      <td>What would a Trump presidency mean for current...</td>\n",
       "      <td>How will a Trump presidency affect the student...</td>\n",
       "    </tr>\n",
       "  </tbody>\n",
       "</table>\n",
       "</div>"
      ],
      "text/plain": [
       "                                           question1  \\\n",
       "0  What would a Trump presidency mean for current...   \n",
       "\n",
       "                                           question2  \n",
       "0  How will a Trump presidency affect the student...  "
      ]
     },
     "execution_count": 86,
     "metadata": {},
     "output_type": "execute_result"
    }
   ],
   "source": [
    "testdf"
   ]
  },
  {
   "cell_type": "code",
   "execution_count": 87,
   "metadata": {},
   "outputs": [],
   "source": [
    "testdf['len_q1'] = testdf.question1.apply(lambda x: len(str(x)))\n",
    "testdf['len_q2'] = testdf.question2.apply(lambda x: len(str(x)))\n",
    "testdf['diff_len'] = testdf.len_q1 - testdf.len_q2\n",
    "testdf['len_char_q1'] = testdf.question1.apply(lambda x: len(''.join(set(str(x).replace(' ', '')))))\n",
    "testdf['len_char_q2'] = testdf.question2.apply(lambda x: len(''.join(set(str(x).replace(' ', '')))))\n",
    "testdf['len_word_q1'] = testdf.question1.apply(lambda x: len(str(x).split()))\n",
    "testdf['len_word_q2'] = testdf.question2.apply(lambda x: len(str(x).split()))\n",
    "testdf['common_words'] = testdf.apply(lambda x: len(set(str(x['question1']).lower().split()).intersection(set(str(x['question2']).lower().split()))), axis=1)\n",
    "testdf['fuzz_ratio'] = testdf.apply(lambda x: fuzz.ratio(str(x['question1']), str(x['question2'])), axis=1)\n",
    "testdf['fuzz_partial_ratio'] = testdf.apply(lambda x: fuzz.partial_ratio(str(x['question1']), str(x['question2'])), axis=1)\n",
    "testdf['fuzz_partial_token_set_ratio'] = testdf.apply(lambda x: fuzz.partial_token_set_ratio(str(x['question1']), str(x['question2'])), axis=1)\n",
    "testdf['fuzz_partial_token_sort_ratio'] = testdf.apply(lambda x: fuzz.partial_token_sort_ratio(str(x['question1']), str(x['question2'])), axis=1)\n",
    "testdf['fuzz_token_set_ratio'] = testdf.apply(lambda x: fuzz.token_set_ratio(str(x['question1']), str(x['question2'])), axis=1)\n",
    "testdf['fuzz_token_sort_ratio'] = testdf.apply(lambda x: fuzz.token_sort_ratio(str(x['question1']), str(x['question2'])), axis=1)"
   ]
  },
  {
   "cell_type": "code",
   "execution_count": 88,
   "metadata": {},
   "outputs": [
    {
     "data": {
      "text/html": [
       "<div>\n",
       "<style scoped>\n",
       "    .dataframe tbody tr th:only-of-type {\n",
       "        vertical-align: middle;\n",
       "    }\n",
       "\n",
       "    .dataframe tbody tr th {\n",
       "        vertical-align: top;\n",
       "    }\n",
       "\n",
       "    .dataframe thead th {\n",
       "        text-align: right;\n",
       "    }\n",
       "</style>\n",
       "<table border=\"1\" class=\"dataframe\">\n",
       "  <thead>\n",
       "    <tr style=\"text-align: right;\">\n",
       "      <th></th>\n",
       "      <th>question1</th>\n",
       "      <th>question2</th>\n",
       "      <th>len_q1</th>\n",
       "      <th>len_q2</th>\n",
       "      <th>diff_len</th>\n",
       "      <th>len_char_q1</th>\n",
       "      <th>len_char_q2</th>\n",
       "      <th>len_word_q1</th>\n",
       "      <th>len_word_q2</th>\n",
       "      <th>common_words</th>\n",
       "      <th>fuzz_ratio</th>\n",
       "      <th>fuzz_partial_ratio</th>\n",
       "      <th>fuzz_partial_token_set_ratio</th>\n",
       "      <th>fuzz_partial_token_sort_ratio</th>\n",
       "      <th>fuzz_token_set_ratio</th>\n",
       "      <th>fuzz_token_sort_ratio</th>\n",
       "    </tr>\n",
       "  </thead>\n",
       "  <tbody>\n",
       "    <tr>\n",
       "      <th>0</th>\n",
       "      <td>What would a Trump presidency mean for current...</td>\n",
       "      <td>How will a Trump presidency affect the student...</td>\n",
       "      <td>93</td>\n",
       "      <td>91</td>\n",
       "      <td>2</td>\n",
       "      <td>25</td>\n",
       "      <td>24</td>\n",
       "      <td>15</td>\n",
       "      <td>17</td>\n",
       "      <td>4</td>\n",
       "      <td>53</td>\n",
       "      <td>54</td>\n",
       "      <td>100</td>\n",
       "      <td>56</td>\n",
       "      <td>61</td>\n",
       "      <td>56</td>\n",
       "    </tr>\n",
       "  </tbody>\n",
       "</table>\n",
       "</div>"
      ],
      "text/plain": [
       "                                           question1  \\\n",
       "0  What would a Trump presidency mean for current...   \n",
       "\n",
       "                                           question2  len_q1  len_q2  \\\n",
       "0  How will a Trump presidency affect the student...      93      91   \n",
       "\n",
       "   diff_len  len_char_q1  len_char_q2  len_word_q1  len_word_q2  common_words  \\\n",
       "0         2           25           24           15           17             4   \n",
       "\n",
       "   fuzz_ratio  fuzz_partial_ratio  fuzz_partial_token_set_ratio  \\\n",
       "0          53                  54                           100   \n",
       "\n",
       "   fuzz_partial_token_sort_ratio  fuzz_token_set_ratio  fuzz_token_sort_ratio  \n",
       "0                             56                    61                     56  "
      ]
     },
     "execution_count": 88,
     "metadata": {},
     "output_type": "execute_result"
    }
   ],
   "source": [
    "testdf"
   ]
  },
  {
   "cell_type": "code",
   "execution_count": 89,
   "metadata": {},
   "outputs": [],
   "source": [
    "def wmd(q1, q2):\n",
    "    return model.wmdistance(q1, q2)\n",
    "\n",
    "def norm_wmd(q1, q2):\n",
    "    return norm_model.wmdistance(q1, q2)\n",
    "\n",
    "\n",
    "def sent2vec(s):\n",
    "    words = str(s).lower()\n",
    "    words = word_tokenize(words)\n",
    "    words = [w for w in words if not w in stop_words]\n",
    "    words = [w for w in words if w.isalpha()]\n",
    "    M = []\n",
    "    for w in words:\n",
    "        try:\n",
    "            M.append(model[w])\n",
    "        except:\n",
    "            continue\n",
    "    M = np.array(M)\n",
    "    v = M.sum(axis=0)\n",
    "    return v / np.sqrt((v ** 2).sum())"
   ]
  },
  {
   "cell_type": "markdown",
   "metadata": {},
   "source": [
    "### Word2Vec Modelling"
   ]
  },
  {
   "cell_type": "code",
   "execution_count": 95,
   "metadata": {},
   "outputs": [],
   "source": [
    "#model = gensim.models.KeyedVectors.load_word2vec_format('GoogleNews-vectors-negative300.bin.gz', binary=True)\n",
    "testdf['wmd'] = testdf.apply(lambda x: wmd(x['question1'], x['question2']), axis=1)"
   ]
  },
  {
   "cell_type": "code",
   "execution_count": 96,
   "metadata": {},
   "outputs": [
    {
     "data": {
      "text/plain": [
       "(404287, 3)"
      ]
     },
     "execution_count": 96,
     "metadata": {},
     "output_type": "execute_result"
    }
   ],
   "source": [
    "df.shape"
   ]
  },
  {
   "cell_type": "markdown",
   "metadata": {},
   "source": [
    "### Normalized Word2vec Modeling"
   ]
  },
  {
   "cell_type": "code",
   "execution_count": 98,
   "metadata": {},
   "outputs": [],
   "source": [
    "norm_model = gensim.models.KeyedVectors.load_word2vec_format('GoogleNews-vectors-negative300.bin.gz', binary=True)\n",
    "norm_model.init_sims(replace=True)\n",
    "#testdf['norm_wmd'] = testdf.apply(lambda x: norm_wmd(x['question1'], x['question2']), axis=1)"
   ]
  },
  {
   "cell_type": "code",
   "execution_count": 100,
   "metadata": {},
   "outputs": [
    {
     "data": {
      "text/html": [
       "<div>\n",
       "<style scoped>\n",
       "    .dataframe tbody tr th:only-of-type {\n",
       "        vertical-align: middle;\n",
       "    }\n",
       "\n",
       "    .dataframe tbody tr th {\n",
       "        vertical-align: top;\n",
       "    }\n",
       "\n",
       "    .dataframe thead th {\n",
       "        text-align: right;\n",
       "    }\n",
       "</style>\n",
       "<table border=\"1\" class=\"dataframe\">\n",
       "  <thead>\n",
       "    <tr style=\"text-align: right;\">\n",
       "      <th></th>\n",
       "      <th>question1</th>\n",
       "      <th>question2</th>\n",
       "      <th>len_q1</th>\n",
       "      <th>len_q2</th>\n",
       "      <th>diff_len</th>\n",
       "      <th>len_char_q1</th>\n",
       "      <th>len_char_q2</th>\n",
       "      <th>len_word_q1</th>\n",
       "      <th>len_word_q2</th>\n",
       "      <th>common_words</th>\n",
       "      <th>fuzz_ratio</th>\n",
       "      <th>fuzz_partial_ratio</th>\n",
       "      <th>fuzz_partial_token_set_ratio</th>\n",
       "      <th>fuzz_partial_token_sort_ratio</th>\n",
       "      <th>fuzz_token_set_ratio</th>\n",
       "      <th>fuzz_token_sort_ratio</th>\n",
       "      <th>wmd</th>\n",
       "      <th>norm_wmd</th>\n",
       "    </tr>\n",
       "  </thead>\n",
       "  <tbody>\n",
       "    <tr>\n",
       "      <th>0</th>\n",
       "      <td>What would a Trump presidency mean for current...</td>\n",
       "      <td>How will a Trump presidency affect the student...</td>\n",
       "      <td>93</td>\n",
       "      <td>91</td>\n",
       "      <td>2</td>\n",
       "      <td>25</td>\n",
       "      <td>24</td>\n",
       "      <td>15</td>\n",
       "      <td>17</td>\n",
       "      <td>4</td>\n",
       "      <td>53</td>\n",
       "      <td>54</td>\n",
       "      <td>100</td>\n",
       "      <td>56</td>\n",
       "      <td>61</td>\n",
       "      <td>56</td>\n",
       "      <td>0.569327</td>\n",
       "      <td>0.209776</td>\n",
       "    </tr>\n",
       "  </tbody>\n",
       "</table>\n",
       "</div>"
      ],
      "text/plain": [
       "                                           question1  \\\n",
       "0  What would a Trump presidency mean for current...   \n",
       "\n",
       "                                           question2  len_q1  len_q2  \\\n",
       "0  How will a Trump presidency affect the student...      93      91   \n",
       "\n",
       "   diff_len  len_char_q1  len_char_q2  len_word_q1  len_word_q2  common_words  \\\n",
       "0         2           25           24           15           17             4   \n",
       "\n",
       "   fuzz_ratio  fuzz_partial_ratio  fuzz_partial_token_set_ratio  \\\n",
       "0          53                  54                           100   \n",
       "\n",
       "   fuzz_partial_token_sort_ratio  fuzz_token_set_ratio  fuzz_token_sort_ratio  \\\n",
       "0                             56                    61                     56   \n",
       "\n",
       "        wmd  norm_wmd  \n",
       "0  0.569327  0.209776  "
      ]
     },
     "execution_count": 100,
     "metadata": {},
     "output_type": "execute_result"
    }
   ],
   "source": [
    "testdf"
   ]
  },
  {
   "cell_type": "code",
   "execution_count": 102,
   "metadata": {},
   "outputs": [
    {
     "name": "stderr",
     "output_type": "stream",
     "text": [
      "C:\\Users\\Suraj\\anaconda3\\envs\\tensorflowenv\\lib\\site-packages\\ipykernel_launcher.py:3: TqdmDeprecationWarning:\n",
      "\n",
      "This function will be removed in tqdm==5.0.0\n",
      "Please use `tqdm.notebook.tqdm` instead of `tqdm.tqdm_notebook`\n",
      "\n"
     ]
    },
    {
     "data": {
      "application/vnd.jupyter.widget-view+json": {
       "model_id": "fe59a707cafd4648b9f68a39a968c843",
       "version_major": 2,
       "version_minor": 0
      },
      "text/plain": [
       "HBox(children=(HTML(value=''), FloatProgress(value=0.0, max=1.0), HTML(value='')))"
      ]
     },
     "metadata": {},
     "output_type": "display_data"
    },
    {
     "name": "stdout",
     "output_type": "stream",
     "text": [
      "\n"
     ]
    },
    {
     "name": "stderr",
     "output_type": "stream",
     "text": [
      "C:\\Users\\Suraj\\anaconda3\\envs\\tensorflowenv\\lib\\site-packages\\ipykernel_launcher.py:7: TqdmDeprecationWarning:\n",
      "\n",
      "This function will be removed in tqdm==5.0.0\n",
      "Please use `tqdm.notebook.tqdm` instead of `tqdm.tqdm_notebook`\n",
      "\n"
     ]
    },
    {
     "data": {
      "application/vnd.jupyter.widget-view+json": {
       "model_id": "0cb945ca2c7749309536abd5c4470dac",
       "version_major": 2,
       "version_minor": 0
      },
      "text/plain": [
       "HBox(children=(HTML(value=''), FloatProgress(value=0.0, max=1.0), HTML(value='')))"
      ]
     },
     "metadata": {},
     "output_type": "display_data"
    },
    {
     "name": "stdout",
     "output_type": "stream",
     "text": [
      "\n"
     ]
    }
   ],
   "source": [
    "from tqdm import tqdm_notebook\n",
    "question1_vectors = np.zeros((testdf.shape[0], 300))\n",
    "for i, q in enumerate(tqdm_notebook(testdf.question1.values)):\n",
    "    question1_vectors[i, :] = sent2vec(q)\n",
    "    \n",
    "question2_vectors  = np.zeros((testdf.shape[0], 300))\n",
    "for i, q in enumerate(tqdm_notebook(testdf.question2.values)):\n",
    "    question2_vectors[i, :] = sent2vec(q)"
   ]
  },
  {
   "cell_type": "code",
   "execution_count": 104,
   "metadata": {},
   "outputs": [],
   "source": [
    "from scipy.spatial.distance import cosine, cityblock, jaccard, canberra, euclidean, minkowski, braycurtis\n",
    "from scipy.stats import skew, kurtosis"
   ]
  },
  {
   "cell_type": "code",
   "execution_count": 105,
   "metadata": {},
   "outputs": [],
   "source": [
    "testdf['cosine_distance'] = [cosine(x, y) for (x, y) in zip(np.nan_to_num(question1_vectors), np.nan_to_num(question2_vectors))]\n",
    "testdf['cityblock_distance'] = [cityblock(x, y) for (x, y) in zip(np.nan_to_num(question1_vectors), np.nan_to_num(question2_vectors))]\n",
    "testdf['jaccard_distance'] = [jaccard(x, y) for (x, y) in zip(np.nan_to_num(question1_vectors), np.nan_to_num(question2_vectors))]\n",
    "testdf['canberra_distance'] = [canberra(x, y) for (x, y) in zip(np.nan_to_num(question1_vectors), np.nan_to_num(question2_vectors))]\n",
    "testdf['euclidean_distance'] = [euclidean(x, y) for (x, y) in zip(np.nan_to_num(question1_vectors), np.nan_to_num(question2_vectors))]\n",
    "testdf['minkowski_distance'] = [minkowski(x, y, 3) for (x, y) in zip(np.nan_to_num(question1_vectors), np.nan_to_num(question2_vectors))]\n",
    "testdf['braycurtis_distance'] = [braycurtis(x, y) for (x, y) in zip(np.nan_to_num(question1_vectors), np.nan_to_num(question2_vectors))]\n",
    "testdf['skew_q1vec'] = [skew(x) for x in np.nan_to_num(question1_vectors)]\n",
    "testdf['skew_q2vec'] = [skew(x) for x in np.nan_to_num(question2_vectors)]\n",
    "testdf['kur_q1vec'] = [kurtosis(x) for x in np.nan_to_num(question1_vectors)]\n",
    "testdf['kur_q2vec'] = [kurtosis(x) for x in np.nan_to_num(question2_vectors)]"
   ]
  },
  {
   "cell_type": "code",
   "execution_count": 106,
   "metadata": {},
   "outputs": [
    {
     "data": {
      "text/html": [
       "<div>\n",
       "<style scoped>\n",
       "    .dataframe tbody tr th:only-of-type {\n",
       "        vertical-align: middle;\n",
       "    }\n",
       "\n",
       "    .dataframe tbody tr th {\n",
       "        vertical-align: top;\n",
       "    }\n",
       "\n",
       "    .dataframe thead th {\n",
       "        text-align: right;\n",
       "    }\n",
       "</style>\n",
       "<table border=\"1\" class=\"dataframe\">\n",
       "  <thead>\n",
       "    <tr style=\"text-align: right;\">\n",
       "      <th></th>\n",
       "      <th>question1</th>\n",
       "      <th>question2</th>\n",
       "      <th>len_q1</th>\n",
       "      <th>len_q2</th>\n",
       "      <th>diff_len</th>\n",
       "      <th>len_char_q1</th>\n",
       "      <th>len_char_q2</th>\n",
       "      <th>len_word_q1</th>\n",
       "      <th>len_word_q2</th>\n",
       "      <th>common_words</th>\n",
       "      <th>...</th>\n",
       "      <th>cityblock_distance</th>\n",
       "      <th>jaccard_distance</th>\n",
       "      <th>canberra_distance</th>\n",
       "      <th>euclidean_distance</th>\n",
       "      <th>minkowski_distance</th>\n",
       "      <th>braycurtis_distance</th>\n",
       "      <th>skew_q1vec</th>\n",
       "      <th>skew_q2vec</th>\n",
       "      <th>kur_q1vec</th>\n",
       "      <th>kur_q2vec</th>\n",
       "    </tr>\n",
       "  </thead>\n",
       "  <tbody>\n",
       "    <tr>\n",
       "      <th>0</th>\n",
       "      <td>What would a Trump presidency mean for current...</td>\n",
       "      <td>How will a Trump presidency affect the student...</td>\n",
       "      <td>93</td>\n",
       "      <td>91</td>\n",
       "      <td>2</td>\n",
       "      <td>25</td>\n",
       "      <td>24</td>\n",
       "      <td>15</td>\n",
       "      <td>17</td>\n",
       "      <td>4</td>\n",
       "      <td>...</td>\n",
       "      <td>10.389965</td>\n",
       "      <td>1.0</td>\n",
       "      <td>143.751566</td>\n",
       "      <td>0.772044</td>\n",
       "      <td>0.352782</td>\n",
       "      <td>0.403146</td>\n",
       "      <td>0.189724</td>\n",
       "      <td>0.253101</td>\n",
       "      <td>-0.082265</td>\n",
       "      <td>0.033484</td>\n",
       "    </tr>\n",
       "  </tbody>\n",
       "</table>\n",
       "<p>1 rows × 29 columns</p>\n",
       "</div>"
      ],
      "text/plain": [
       "                                           question1  \\\n",
       "0  What would a Trump presidency mean for current...   \n",
       "\n",
       "                                           question2  len_q1  len_q2  \\\n",
       "0  How will a Trump presidency affect the student...      93      91   \n",
       "\n",
       "   diff_len  len_char_q1  len_char_q2  len_word_q1  len_word_q2  common_words  \\\n",
       "0         2           25           24           15           17             4   \n",
       "\n",
       "   ...  cityblock_distance  jaccard_distance  canberra_distance  \\\n",
       "0  ...           10.389965               1.0         143.751566   \n",
       "\n",
       "   euclidean_distance  minkowski_distance  braycurtis_distance  skew_q1vec  \\\n",
       "0            0.772044            0.352782             0.403146    0.189724   \n",
       "\n",
       "   skew_q2vec  kur_q1vec  kur_q2vec  \n",
       "0    0.253101  -0.082265   0.033484  \n",
       "\n",
       "[1 rows x 29 columns]"
      ]
     },
     "execution_count": 106,
     "metadata": {},
     "output_type": "execute_result"
    }
   ],
   "source": [
    "testdf"
   ]
  },
  {
   "cell_type": "markdown",
   "metadata": {},
   "source": [
    "### Training"
   ]
  },
  {
   "cell_type": "code",
   "execution_count": 109,
   "metadata": {},
   "outputs": [],
   "source": [
    "df = pd.read_csv('features.csv')"
   ]
  },
  {
   "cell_type": "code",
   "execution_count": 111,
   "metadata": {},
   "outputs": [
    {
     "data": {
      "text/html": [
       "<div>\n",
       "<style scoped>\n",
       "    .dataframe tbody tr th:only-of-type {\n",
       "        vertical-align: middle;\n",
       "    }\n",
       "\n",
       "    .dataframe tbody tr th {\n",
       "        vertical-align: top;\n",
       "    }\n",
       "\n",
       "    .dataframe thead th {\n",
       "        text-align: right;\n",
       "    }\n",
       "</style>\n",
       "<table border=\"1\" class=\"dataframe\">\n",
       "  <thead>\n",
       "    <tr style=\"text-align: right;\">\n",
       "      <th></th>\n",
       "      <th>Unnamed: 0</th>\n",
       "      <th>question1</th>\n",
       "      <th>question2</th>\n",
       "      <th>is_duplicate</th>\n",
       "      <th>len_q1</th>\n",
       "      <th>len_q2</th>\n",
       "      <th>diff_len</th>\n",
       "      <th>len_char_q1</th>\n",
       "      <th>len_char_q2</th>\n",
       "      <th>len_word_q1</th>\n",
       "      <th>len_word_q2</th>\n",
       "      <th>common_words</th>\n",
       "      <th>fuzz_ratio</th>\n",
       "      <th>fuzz_partial_ratio</th>\n",
       "      <th>fuzz_partial_token_set_ratio</th>\n",
       "      <th>fuzz_partial_token_sort_ratio</th>\n",
       "      <th>fuzz_token_set_ratio</th>\n",
       "      <th>fuzz_token_sort_ratio</th>\n",
       "    </tr>\n",
       "  </thead>\n",
       "  <tbody>\n",
       "    <tr>\n",
       "      <th>0</th>\n",
       "      <td>0</td>\n",
       "      <td>what step step guide invest share market india?</td>\n",
       "      <td>what step step guide invest share market?</td>\n",
       "      <td>0</td>\n",
       "      <td>47</td>\n",
       "      <td>41</td>\n",
       "      <td>6</td>\n",
       "      <td>17</td>\n",
       "      <td>17</td>\n",
       "      <td>8</td>\n",
       "      <td>7</td>\n",
       "      <td>5</td>\n",
       "      <td>93</td>\n",
       "      <td>98</td>\n",
       "      <td>100</td>\n",
       "      <td>92</td>\n",
       "      <td>100</td>\n",
       "      <td>93</td>\n",
       "    </tr>\n",
       "    <tr>\n",
       "      <th>1</th>\n",
       "      <td>1</td>\n",
       "      <td>what story kohinoor (koh-i-noor) diamond?</td>\n",
       "      <td>what would happen indian government stole kohi...</td>\n",
       "      <td>0</td>\n",
       "      <td>41</td>\n",
       "      <td>77</td>\n",
       "      <td>-36</td>\n",
       "      <td>17</td>\n",
       "      <td>24</td>\n",
       "      <td>5</td>\n",
       "      <td>10</td>\n",
       "      <td>3</td>\n",
       "      <td>66</td>\n",
       "      <td>85</td>\n",
       "      <td>100</td>\n",
       "      <td>82</td>\n",
       "      <td>91</td>\n",
       "      <td>64</td>\n",
       "    </tr>\n",
       "    <tr>\n",
       "      <th>2</th>\n",
       "      <td>2</td>\n",
       "      <td>how i increase speed internet connection using...</td>\n",
       "      <td>how internet speed increased hacking dns?</td>\n",
       "      <td>0</td>\n",
       "      <td>51</td>\n",
       "      <td>41</td>\n",
       "      <td>10</td>\n",
       "      <td>17</td>\n",
       "      <td>16</td>\n",
       "      <td>8</td>\n",
       "      <td>6</td>\n",
       "      <td>3</td>\n",
       "      <td>48</td>\n",
       "      <td>45</td>\n",
       "      <td>100</td>\n",
       "      <td>80</td>\n",
       "      <td>67</td>\n",
       "      <td>67</td>\n",
       "    </tr>\n",
       "    <tr>\n",
       "      <th>3</th>\n",
       "      <td>3</td>\n",
       "      <td>why i mentally lonely? how i solve it?</td>\n",
       "      <td>find remainder [math]23^{24}[/math] divided 2423?</td>\n",
       "      <td>0</td>\n",
       "      <td>38</td>\n",
       "      <td>49</td>\n",
       "      <td>-11</td>\n",
       "      <td>14</td>\n",
       "      <td>21</td>\n",
       "      <td>8</td>\n",
       "      <td>5</td>\n",
       "      <td>0</td>\n",
       "      <td>11</td>\n",
       "      <td>19</td>\n",
       "      <td>32</td>\n",
       "      <td>29</td>\n",
       "      <td>28</td>\n",
       "      <td>25</td>\n",
       "    </tr>\n",
       "    <tr>\n",
       "      <th>4</th>\n",
       "      <td>4</td>\n",
       "      <td>which one dissolve water quikly sugar, salt, m...</td>\n",
       "      <td>which fish would survive salt water?</td>\n",
       "      <td>0</td>\n",
       "      <td>69</td>\n",
       "      <td>36</td>\n",
       "      <td>33</td>\n",
       "      <td>24</td>\n",
       "      <td>16</td>\n",
       "      <td>11</td>\n",
       "      <td>6</td>\n",
       "      <td>1</td>\n",
       "      <td>34</td>\n",
       "      <td>50</td>\n",
       "      <td>100</td>\n",
       "      <td>71</td>\n",
       "      <td>63</td>\n",
       "      <td>48</td>\n",
       "    </tr>\n",
       "  </tbody>\n",
       "</table>\n",
       "</div>"
      ],
      "text/plain": [
       "   Unnamed: 0                                          question1  \\\n",
       "0           0    what step step guide invest share market india?   \n",
       "1           1          what story kohinoor (koh-i-noor) diamond?   \n",
       "2           2  how i increase speed internet connection using...   \n",
       "3           3             why i mentally lonely? how i solve it?   \n",
       "4           4  which one dissolve water quikly sugar, salt, m...   \n",
       "\n",
       "                                           question2  is_duplicate  len_q1  \\\n",
       "0          what step step guide invest share market?             0      47   \n",
       "1  what would happen indian government stole kohi...             0      41   \n",
       "2          how internet speed increased hacking dns?             0      51   \n",
       "3  find remainder [math]23^{24}[/math] divided 2423?             0      38   \n",
       "4               which fish would survive salt water?             0      69   \n",
       "\n",
       "   len_q2  diff_len  len_char_q1  len_char_q2  len_word_q1  len_word_q2  \\\n",
       "0      41         6           17           17            8            7   \n",
       "1      77       -36           17           24            5           10   \n",
       "2      41        10           17           16            8            6   \n",
       "3      49       -11           14           21            8            5   \n",
       "4      36        33           24           16           11            6   \n",
       "\n",
       "   common_words  fuzz_ratio  fuzz_partial_ratio  fuzz_partial_token_set_ratio  \\\n",
       "0             5          93                  98                           100   \n",
       "1             3          66                  85                           100   \n",
       "2             3          48                  45                           100   \n",
       "3             0          11                  19                            32   \n",
       "4             1          34                  50                           100   \n",
       "\n",
       "   fuzz_partial_token_sort_ratio  fuzz_token_set_ratio  fuzz_token_sort_ratio  \n",
       "0                             92                   100                     93  \n",
       "1                             82                    91                     64  \n",
       "2                             80                    67                     67  \n",
       "3                             29                    28                     25  \n",
       "4                             71                    63                     48  "
      ]
     },
     "execution_count": 111,
     "metadata": {},
     "output_type": "execute_result"
    }
   ],
   "source": [
    "df.head()"
   ]
  },
  {
   "cell_type": "code",
   "execution_count": 112,
   "metadata": {},
   "outputs": [],
   "source": [
    "def wmd(q1, q2):\n",
    "    return model.wmdistance(q1, q2)\n",
    "\n",
    "def norm_wmd(q1, q2):\n",
    "    return norm_model.wmdistance(q1, q2)\n",
    "\n",
    "\n",
    "def sent2vec(s):\n",
    "    words = str(s).lower()\n",
    "    words = word_tokenize(words)\n",
    "    words = [w for w in words if not w in stop_words]\n",
    "    words = [w for w in words if w.isalpha()]\n",
    "    M = []\n",
    "    for w in words:\n",
    "        try:\n",
    "            M.append(model[w])\n",
    "        except:\n",
    "            continue\n",
    "    M = np.array(M)\n",
    "    v = M.sum(axis=0)\n",
    "    return v / np.sqrt((v ** 2).sum())"
   ]
  },
  {
   "cell_type": "code",
   "execution_count": 113,
   "metadata": {},
   "outputs": [
    {
     "ename": "TypeError",
     "evalue": "object of type 'float' has no len()",
     "output_type": "error",
     "traceback": [
      "\u001b[1;31m---------------------------------------------------------------------------\u001b[0m",
      "\u001b[1;31mTypeError\u001b[0m                                 Traceback (most recent call last)",
      "\u001b[1;32m<ipython-input-113-f11e337c5932>\u001b[0m in \u001b[0;36m<module>\u001b[1;34m\u001b[0m\n\u001b[1;32m----> 1\u001b[1;33m \u001b[0mdf\u001b[0m\u001b[1;33m[\u001b[0m\u001b[1;34m'wmd'\u001b[0m\u001b[1;33m]\u001b[0m \u001b[1;33m=\u001b[0m \u001b[0mdf\u001b[0m\u001b[1;33m.\u001b[0m\u001b[0mapply\u001b[0m\u001b[1;33m(\u001b[0m\u001b[1;32mlambda\u001b[0m \u001b[0mx\u001b[0m\u001b[1;33m:\u001b[0m \u001b[0mwmd\u001b[0m\u001b[1;33m(\u001b[0m\u001b[0mx\u001b[0m\u001b[1;33m[\u001b[0m\u001b[1;34m'question1'\u001b[0m\u001b[1;33m]\u001b[0m\u001b[1;33m,\u001b[0m \u001b[0mx\u001b[0m\u001b[1;33m[\u001b[0m\u001b[1;34m'question2'\u001b[0m\u001b[1;33m]\u001b[0m\u001b[1;33m)\u001b[0m\u001b[1;33m,\u001b[0m \u001b[0maxis\u001b[0m\u001b[1;33m=\u001b[0m\u001b[1;36m1\u001b[0m\u001b[1;33m)\u001b[0m\u001b[1;33m\u001b[0m\u001b[0m\n\u001b[0m\u001b[0;32m      2\u001b[0m \u001b[0mdf\u001b[0m\u001b[1;33m[\u001b[0m\u001b[1;34m'norm_wmd'\u001b[0m\u001b[1;33m]\u001b[0m \u001b[1;33m=\u001b[0m \u001b[0mdf\u001b[0m\u001b[1;33m.\u001b[0m\u001b[0mapply\u001b[0m\u001b[1;33m(\u001b[0m\u001b[1;32mlambda\u001b[0m \u001b[0mx\u001b[0m\u001b[1;33m:\u001b[0m \u001b[0mnorm_wmd\u001b[0m\u001b[1;33m(\u001b[0m\u001b[0mx\u001b[0m\u001b[1;33m[\u001b[0m\u001b[1;34m'question1'\u001b[0m\u001b[1;33m]\u001b[0m\u001b[1;33m,\u001b[0m \u001b[0mx\u001b[0m\u001b[1;33m[\u001b[0m\u001b[1;34m'question2'\u001b[0m\u001b[1;33m]\u001b[0m\u001b[1;33m)\u001b[0m\u001b[1;33m,\u001b[0m \u001b[0maxis\u001b[0m\u001b[1;33m=\u001b[0m\u001b[1;36m1\u001b[0m\u001b[1;33m)\u001b[0m\u001b[1;33m\u001b[0m\u001b[0m\n",
      "\u001b[1;32m~\\anaconda3\\envs\\tensorflowenv\\lib\\site-packages\\pandas\\core\\frame.py\u001b[0m in \u001b[0;36mapply\u001b[1;34m(self, func, axis, raw, result_type, args, **kwds)\u001b[0m\n\u001b[0;32m   7546\u001b[0m             \u001b[0mkwds\u001b[0m\u001b[1;33m=\u001b[0m\u001b[0mkwds\u001b[0m\u001b[1;33m,\u001b[0m\u001b[1;33m\u001b[0m\u001b[0m\n\u001b[0;32m   7547\u001b[0m         )\n\u001b[1;32m-> 7548\u001b[1;33m         \u001b[1;32mreturn\u001b[0m \u001b[0mop\u001b[0m\u001b[1;33m.\u001b[0m\u001b[0mget_result\u001b[0m\u001b[1;33m(\u001b[0m\u001b[1;33m)\u001b[0m\u001b[1;33m\u001b[0m\u001b[0m\n\u001b[0m\u001b[0;32m   7549\u001b[0m \u001b[1;33m\u001b[0m\u001b[0m\n\u001b[0;32m   7550\u001b[0m     \u001b[1;32mdef\u001b[0m \u001b[0mapplymap\u001b[0m\u001b[1;33m(\u001b[0m\u001b[0mself\u001b[0m\u001b[1;33m,\u001b[0m \u001b[0mfunc\u001b[0m\u001b[1;33m)\u001b[0m \u001b[1;33m->\u001b[0m \u001b[1;34m\"DataFrame\"\u001b[0m\u001b[1;33m:\u001b[0m\u001b[1;33m\u001b[0m\u001b[0m\n",
      "\u001b[1;32m~\\anaconda3\\envs\\tensorflowenv\\lib\\site-packages\\pandas\\core\\apply.py\u001b[0m in \u001b[0;36mget_result\u001b[1;34m(self)\u001b[0m\n\u001b[0;32m    178\u001b[0m             \u001b[1;32mreturn\u001b[0m \u001b[0mself\u001b[0m\u001b[1;33m.\u001b[0m\u001b[0mapply_raw\u001b[0m\u001b[1;33m(\u001b[0m\u001b[1;33m)\u001b[0m\u001b[1;33m\u001b[0m\u001b[0m\n\u001b[0;32m    179\u001b[0m \u001b[1;33m\u001b[0m\u001b[0m\n\u001b[1;32m--> 180\u001b[1;33m         \u001b[1;32mreturn\u001b[0m \u001b[0mself\u001b[0m\u001b[1;33m.\u001b[0m\u001b[0mapply_standard\u001b[0m\u001b[1;33m(\u001b[0m\u001b[1;33m)\u001b[0m\u001b[1;33m\u001b[0m\u001b[0m\n\u001b[0m\u001b[0;32m    181\u001b[0m \u001b[1;33m\u001b[0m\u001b[0m\n\u001b[0;32m    182\u001b[0m     \u001b[1;32mdef\u001b[0m \u001b[0mapply_empty_result\u001b[0m\u001b[1;33m(\u001b[0m\u001b[0mself\u001b[0m\u001b[1;33m)\u001b[0m\u001b[1;33m:\u001b[0m\u001b[1;33m\u001b[0m\u001b[0m\n",
      "\u001b[1;32m~\\anaconda3\\envs\\tensorflowenv\\lib\\site-packages\\pandas\\core\\apply.py\u001b[0m in \u001b[0;36mapply_standard\u001b[1;34m(self)\u001b[0m\n\u001b[0;32m    269\u001b[0m \u001b[1;33m\u001b[0m\u001b[0m\n\u001b[0;32m    270\u001b[0m     \u001b[1;32mdef\u001b[0m \u001b[0mapply_standard\u001b[0m\u001b[1;33m(\u001b[0m\u001b[0mself\u001b[0m\u001b[1;33m)\u001b[0m\u001b[1;33m:\u001b[0m\u001b[1;33m\u001b[0m\u001b[0m\n\u001b[1;32m--> 271\u001b[1;33m         \u001b[0mresults\u001b[0m\u001b[1;33m,\u001b[0m \u001b[0mres_index\u001b[0m \u001b[1;33m=\u001b[0m \u001b[0mself\u001b[0m\u001b[1;33m.\u001b[0m\u001b[0mapply_series_generator\u001b[0m\u001b[1;33m(\u001b[0m\u001b[1;33m)\u001b[0m\u001b[1;33m\u001b[0m\u001b[0m\n\u001b[0m\u001b[0;32m    272\u001b[0m \u001b[1;33m\u001b[0m\u001b[0m\n\u001b[0;32m    273\u001b[0m         \u001b[1;31m# wrap results\u001b[0m\u001b[1;33m\u001b[0m\u001b[1;33m\u001b[0m\u001b[0m\n",
      "\u001b[1;32m~\\anaconda3\\envs\\tensorflowenv\\lib\\site-packages\\pandas\\core\\apply.py\u001b[0m in \u001b[0;36mapply_series_generator\u001b[1;34m(self)\u001b[0m\n\u001b[0;32m    298\u001b[0m                 \u001b[1;32mfor\u001b[0m \u001b[0mi\u001b[0m\u001b[1;33m,\u001b[0m \u001b[0mv\u001b[0m \u001b[1;32min\u001b[0m \u001b[0menumerate\u001b[0m\u001b[1;33m(\u001b[0m\u001b[0mseries_gen\u001b[0m\u001b[1;33m)\u001b[0m\u001b[1;33m:\u001b[0m\u001b[1;33m\u001b[0m\u001b[0m\n\u001b[0;32m    299\u001b[0m                     \u001b[1;31m# ignore SettingWithCopy here in case the user mutates\u001b[0m\u001b[1;33m\u001b[0m\u001b[1;33m\u001b[0m\u001b[0m\n\u001b[1;32m--> 300\u001b[1;33m                     \u001b[0mresults\u001b[0m\u001b[1;33m[\u001b[0m\u001b[0mi\u001b[0m\u001b[1;33m]\u001b[0m \u001b[1;33m=\u001b[0m \u001b[0mself\u001b[0m\u001b[1;33m.\u001b[0m\u001b[0mf\u001b[0m\u001b[1;33m(\u001b[0m\u001b[0mv\u001b[0m\u001b[1;33m)\u001b[0m\u001b[1;33m\u001b[0m\u001b[0m\n\u001b[0m\u001b[0;32m    301\u001b[0m                     \u001b[1;32mif\u001b[0m \u001b[0misinstance\u001b[0m\u001b[1;33m(\u001b[0m\u001b[0mresults\u001b[0m\u001b[1;33m[\u001b[0m\u001b[0mi\u001b[0m\u001b[1;33m]\u001b[0m\u001b[1;33m,\u001b[0m \u001b[0mABCSeries\u001b[0m\u001b[1;33m)\u001b[0m\u001b[1;33m:\u001b[0m\u001b[1;33m\u001b[0m\u001b[0m\n\u001b[0;32m    302\u001b[0m                         \u001b[1;31m# If we have a view on v, we need to make a copy because\u001b[0m\u001b[1;33m\u001b[0m\u001b[1;33m\u001b[0m\u001b[0m\n",
      "\u001b[1;32m<ipython-input-113-f11e337c5932>\u001b[0m in \u001b[0;36m<lambda>\u001b[1;34m(x)\u001b[0m\n\u001b[1;32m----> 1\u001b[1;33m \u001b[0mdf\u001b[0m\u001b[1;33m[\u001b[0m\u001b[1;34m'wmd'\u001b[0m\u001b[1;33m]\u001b[0m \u001b[1;33m=\u001b[0m \u001b[0mdf\u001b[0m\u001b[1;33m.\u001b[0m\u001b[0mapply\u001b[0m\u001b[1;33m(\u001b[0m\u001b[1;32mlambda\u001b[0m \u001b[0mx\u001b[0m\u001b[1;33m:\u001b[0m \u001b[0mwmd\u001b[0m\u001b[1;33m(\u001b[0m\u001b[0mx\u001b[0m\u001b[1;33m[\u001b[0m\u001b[1;34m'question1'\u001b[0m\u001b[1;33m]\u001b[0m\u001b[1;33m,\u001b[0m \u001b[0mx\u001b[0m\u001b[1;33m[\u001b[0m\u001b[1;34m'question2'\u001b[0m\u001b[1;33m]\u001b[0m\u001b[1;33m)\u001b[0m\u001b[1;33m,\u001b[0m \u001b[0maxis\u001b[0m\u001b[1;33m=\u001b[0m\u001b[1;36m1\u001b[0m\u001b[1;33m)\u001b[0m\u001b[1;33m\u001b[0m\u001b[0m\n\u001b[0m\u001b[0;32m      2\u001b[0m \u001b[0mdf\u001b[0m\u001b[1;33m[\u001b[0m\u001b[1;34m'norm_wmd'\u001b[0m\u001b[1;33m]\u001b[0m \u001b[1;33m=\u001b[0m \u001b[0mdf\u001b[0m\u001b[1;33m.\u001b[0m\u001b[0mapply\u001b[0m\u001b[1;33m(\u001b[0m\u001b[1;32mlambda\u001b[0m \u001b[0mx\u001b[0m\u001b[1;33m:\u001b[0m \u001b[0mnorm_wmd\u001b[0m\u001b[1;33m(\u001b[0m\u001b[0mx\u001b[0m\u001b[1;33m[\u001b[0m\u001b[1;34m'question1'\u001b[0m\u001b[1;33m]\u001b[0m\u001b[1;33m,\u001b[0m \u001b[0mx\u001b[0m\u001b[1;33m[\u001b[0m\u001b[1;34m'question2'\u001b[0m\u001b[1;33m]\u001b[0m\u001b[1;33m)\u001b[0m\u001b[1;33m,\u001b[0m \u001b[0maxis\u001b[0m\u001b[1;33m=\u001b[0m\u001b[1;36m1\u001b[0m\u001b[1;33m)\u001b[0m\u001b[1;33m\u001b[0m\u001b[0m\n",
      "\u001b[1;32m<ipython-input-112-58f0049d5072>\u001b[0m in \u001b[0;36mwmd\u001b[1;34m(q1, q2)\u001b[0m\n\u001b[0;32m      1\u001b[0m \u001b[1;32mdef\u001b[0m \u001b[0mwmd\u001b[0m\u001b[1;33m(\u001b[0m\u001b[0mq1\u001b[0m\u001b[1;33m,\u001b[0m \u001b[0mq2\u001b[0m\u001b[1;33m)\u001b[0m\u001b[1;33m:\u001b[0m\u001b[1;33m\u001b[0m\u001b[0m\n\u001b[1;32m----> 2\u001b[1;33m     \u001b[1;32mreturn\u001b[0m \u001b[0mmodel\u001b[0m\u001b[1;33m.\u001b[0m\u001b[0mwmdistance\u001b[0m\u001b[1;33m(\u001b[0m\u001b[0mq1\u001b[0m\u001b[1;33m,\u001b[0m \u001b[0mq2\u001b[0m\u001b[1;33m)\u001b[0m\u001b[1;33m\u001b[0m\u001b[0m\n\u001b[0m\u001b[0;32m      3\u001b[0m \u001b[1;33m\u001b[0m\u001b[0m\n\u001b[0;32m      4\u001b[0m \u001b[1;32mdef\u001b[0m \u001b[0mnorm_wmd\u001b[0m\u001b[1;33m(\u001b[0m\u001b[0mq1\u001b[0m\u001b[1;33m,\u001b[0m \u001b[0mq2\u001b[0m\u001b[1;33m)\u001b[0m\u001b[1;33m:\u001b[0m\u001b[1;33m\u001b[0m\u001b[0m\n\u001b[0;32m      5\u001b[0m     \u001b[1;32mreturn\u001b[0m \u001b[0mnorm_model\u001b[0m\u001b[1;33m.\u001b[0m\u001b[0mwmdistance\u001b[0m\u001b[1;33m(\u001b[0m\u001b[0mq1\u001b[0m\u001b[1;33m,\u001b[0m \u001b[0mq2\u001b[0m\u001b[1;33m)\u001b[0m\u001b[1;33m\u001b[0m\u001b[0m\n",
      "\u001b[1;32m~\\anaconda3\\envs\\tensorflowenv\\lib\\site-packages\\gensim\\models\\keyedvectors.py\u001b[0m in \u001b[0;36mwmdistance\u001b[1;34m(self, document1, document2)\u001b[0m\n\u001b[0;32m    718\u001b[0m \u001b[1;33m\u001b[0m\u001b[0m\n\u001b[0;32m    719\u001b[0m         \u001b[1;31m# Remove out-of-vocabulary words.\u001b[0m\u001b[1;33m\u001b[0m\u001b[1;33m\u001b[0m\u001b[0m\n\u001b[1;32m--> 720\u001b[1;33m         \u001b[0mlen_pre_oov1\u001b[0m \u001b[1;33m=\u001b[0m \u001b[0mlen\u001b[0m\u001b[1;33m(\u001b[0m\u001b[0mdocument1\u001b[0m\u001b[1;33m)\u001b[0m\u001b[1;33m\u001b[0m\u001b[0m\n\u001b[0m\u001b[0;32m    721\u001b[0m         \u001b[0mlen_pre_oov2\u001b[0m \u001b[1;33m=\u001b[0m \u001b[0mlen\u001b[0m\u001b[1;33m(\u001b[0m\u001b[0mdocument2\u001b[0m\u001b[1;33m)\u001b[0m\u001b[1;33m\u001b[0m\u001b[0m\n\u001b[0;32m    722\u001b[0m         \u001b[0mdocument1\u001b[0m \u001b[1;33m=\u001b[0m \u001b[1;33m[\u001b[0m\u001b[0mtoken\u001b[0m \u001b[1;32mfor\u001b[0m \u001b[0mtoken\u001b[0m \u001b[1;32min\u001b[0m \u001b[0mdocument1\u001b[0m \u001b[1;32mif\u001b[0m \u001b[0mtoken\u001b[0m \u001b[1;32min\u001b[0m \u001b[0mself\u001b[0m\u001b[1;33m]\u001b[0m\u001b[1;33m\u001b[0m\u001b[0m\n",
      "\u001b[1;31mTypeError\u001b[0m: object of type 'float' has no len()"
     ]
    }
   ],
   "source": [
    "df['wmd'] = df.apply(lambda x: wmd(x['question1'], x['question2']), axis=1)\n",
    "df['norm_wmd'] = df.apply(lambda x: norm_wmd(x['question1'], x['question2']), axis=1)"
   ]
  },
  {
   "cell_type": "code",
   "execution_count": null,
   "metadata": {},
   "outputs": [],
   "source": [
    "question1_vectors = np.zeros((df.shape[0], 300))\n",
    "for i, q in enumerate(tqdm_notebook(df.question1.values)):\n",
    "    question1_vectors[i, :] = sent2vec(q)\n",
    "    \n",
    "question2_vectors  = np.zeros((df.shape[0], 300))\n",
    "for i, q in enumerate(tqdm_notebook(df.question2.values)):\n",
    "    question2_vectors[i, :] = sent2vec(q)"
   ]
  }
 ],
 "metadata": {
  "kernelspec": {
   "display_name": "TensorFlow",
   "language": "python",
   "name": "tensorflowenv"
  },
  "language_info": {
   "codemirror_mode": {
    "name": "ipython",
    "version": 3
   },
   "file_extension": ".py",
   "mimetype": "text/x-python",
   "name": "python",
   "nbconvert_exporter": "python",
   "pygments_lexer": "ipython3",
   "version": "3.7.0"
  }
 },
 "nbformat": 4,
 "nbformat_minor": 4
}
